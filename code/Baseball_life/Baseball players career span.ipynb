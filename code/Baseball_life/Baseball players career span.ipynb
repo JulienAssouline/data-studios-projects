{
 "cells": [
  {
   "cell_type": "code",
   "execution_count": 1,
   "metadata": {
    "collapsed": true
   },
   "outputs": [],
   "source": [
    "import requests as rq\n",
    "from bs4 import BeautifulSoup\n",
    "import pandas as pd\n",
    "import re"
   ]
  },
  {
   "cell_type": "code",
   "execution_count": 9,
   "metadata": {},
   "outputs": [],
   "source": [
    "years_list = pd.DataFrame(list(range(1900, 2014)))"
   ]
  },
  {
   "cell_type": "code",
   "execution_count": 10,
   "metadata": {},
   "outputs": [],
   "source": [
    "years_list.columns = [\"years\"]\n"
   ]
  },
  {
   "cell_type": "code",
   "execution_count": 14,
   "metadata": {},
   "outputs": [],
   "source": [
    "years_list[\"years\"] = years_list[\"years\"].astype(str)"
   ]
  },
  {
   "cell_type": "code",
   "execution_count": 16,
   "metadata": {
    "collapsed": true
   },
   "outputs": [],
   "source": [
    "pd.set_option('max_colwidth',100)"
   ]
  },
  {
   "cell_type": "code",
   "execution_count": 17,
   "metadata": {},
   "outputs": [
    {
     "data": {
      "text/plain": [
       "0      https://www.baseball-reference.com/leagues/MLB/1900-finalyear.shtml\n",
       "1      https://www.baseball-reference.com/leagues/MLB/1901-finalyear.shtml\n",
       "2      https://www.baseball-reference.com/leagues/MLB/1902-finalyear.shtml\n",
       "3      https://www.baseball-reference.com/leagues/MLB/1903-finalyear.shtml\n",
       "4      https://www.baseball-reference.com/leagues/MLB/1904-finalyear.shtml\n",
       "5      https://www.baseball-reference.com/leagues/MLB/1905-finalyear.shtml\n",
       "6      https://www.baseball-reference.com/leagues/MLB/1906-finalyear.shtml\n",
       "7      https://www.baseball-reference.com/leagues/MLB/1907-finalyear.shtml\n",
       "8      https://www.baseball-reference.com/leagues/MLB/1908-finalyear.shtml\n",
       "9      https://www.baseball-reference.com/leagues/MLB/1909-finalyear.shtml\n",
       "10     https://www.baseball-reference.com/leagues/MLB/1910-finalyear.shtml\n",
       "11     https://www.baseball-reference.com/leagues/MLB/1911-finalyear.shtml\n",
       "12     https://www.baseball-reference.com/leagues/MLB/1912-finalyear.shtml\n",
       "13     https://www.baseball-reference.com/leagues/MLB/1913-finalyear.shtml\n",
       "14     https://www.baseball-reference.com/leagues/MLB/1914-finalyear.shtml\n",
       "15     https://www.baseball-reference.com/leagues/MLB/1915-finalyear.shtml\n",
       "16     https://www.baseball-reference.com/leagues/MLB/1916-finalyear.shtml\n",
       "17     https://www.baseball-reference.com/leagues/MLB/1917-finalyear.shtml\n",
       "18     https://www.baseball-reference.com/leagues/MLB/1918-finalyear.shtml\n",
       "19     https://www.baseball-reference.com/leagues/MLB/1919-finalyear.shtml\n",
       "20     https://www.baseball-reference.com/leagues/MLB/1920-finalyear.shtml\n",
       "21     https://www.baseball-reference.com/leagues/MLB/1921-finalyear.shtml\n",
       "22     https://www.baseball-reference.com/leagues/MLB/1922-finalyear.shtml\n",
       "23     https://www.baseball-reference.com/leagues/MLB/1923-finalyear.shtml\n",
       "24     https://www.baseball-reference.com/leagues/MLB/1924-finalyear.shtml\n",
       "25     https://www.baseball-reference.com/leagues/MLB/1925-finalyear.shtml\n",
       "26     https://www.baseball-reference.com/leagues/MLB/1926-finalyear.shtml\n",
       "27     https://www.baseball-reference.com/leagues/MLB/1927-finalyear.shtml\n",
       "28     https://www.baseball-reference.com/leagues/MLB/1928-finalyear.shtml\n",
       "29     https://www.baseball-reference.com/leagues/MLB/1929-finalyear.shtml\n",
       "                                      ...                                 \n",
       "84     https://www.baseball-reference.com/leagues/MLB/1984-finalyear.shtml\n",
       "85     https://www.baseball-reference.com/leagues/MLB/1985-finalyear.shtml\n",
       "86     https://www.baseball-reference.com/leagues/MLB/1986-finalyear.shtml\n",
       "87     https://www.baseball-reference.com/leagues/MLB/1987-finalyear.shtml\n",
       "88     https://www.baseball-reference.com/leagues/MLB/1988-finalyear.shtml\n",
       "89     https://www.baseball-reference.com/leagues/MLB/1989-finalyear.shtml\n",
       "90     https://www.baseball-reference.com/leagues/MLB/1990-finalyear.shtml\n",
       "91     https://www.baseball-reference.com/leagues/MLB/1991-finalyear.shtml\n",
       "92     https://www.baseball-reference.com/leagues/MLB/1992-finalyear.shtml\n",
       "93     https://www.baseball-reference.com/leagues/MLB/1993-finalyear.shtml\n",
       "94     https://www.baseball-reference.com/leagues/MLB/1994-finalyear.shtml\n",
       "95     https://www.baseball-reference.com/leagues/MLB/1995-finalyear.shtml\n",
       "96     https://www.baseball-reference.com/leagues/MLB/1996-finalyear.shtml\n",
       "97     https://www.baseball-reference.com/leagues/MLB/1997-finalyear.shtml\n",
       "98     https://www.baseball-reference.com/leagues/MLB/1998-finalyear.shtml\n",
       "99     https://www.baseball-reference.com/leagues/MLB/1999-finalyear.shtml\n",
       "100    https://www.baseball-reference.com/leagues/MLB/2000-finalyear.shtml\n",
       "101    https://www.baseball-reference.com/leagues/MLB/2001-finalyear.shtml\n",
       "102    https://www.baseball-reference.com/leagues/MLB/2002-finalyear.shtml\n",
       "103    https://www.baseball-reference.com/leagues/MLB/2003-finalyear.shtml\n",
       "104    https://www.baseball-reference.com/leagues/MLB/2004-finalyear.shtml\n",
       "105    https://www.baseball-reference.com/leagues/MLB/2005-finalyear.shtml\n",
       "106    https://www.baseball-reference.com/leagues/MLB/2006-finalyear.shtml\n",
       "107    https://www.baseball-reference.com/leagues/MLB/2007-finalyear.shtml\n",
       "108    https://www.baseball-reference.com/leagues/MLB/2008-finalyear.shtml\n",
       "109    https://www.baseball-reference.com/leagues/MLB/2009-finalyear.shtml\n",
       "110    https://www.baseball-reference.com/leagues/MLB/2010-finalyear.shtml\n",
       "111    https://www.baseball-reference.com/leagues/MLB/2011-finalyear.shtml\n",
       "112    https://www.baseball-reference.com/leagues/MLB/2012-finalyear.shtml\n",
       "113    https://www.baseball-reference.com/leagues/MLB/2013-finalyear.shtml\n",
       "Name: years, Length: 114, dtype: object"
      ]
     },
     "execution_count": 17,
     "metadata": {},
     "output_type": "execute_result"
    }
   ],
   "source": [
    "\"https://www.baseball-reference.com/leagues/MLB/\" + years_list[\"years\"] + \"-finalyear.shtml\""
   ]
  },
  {
   "cell_type": "code",
   "execution_count": null,
   "metadata": {
    "collapsed": true
   },
   "outputs": [],
   "source": []
  }
 ],
 "metadata": {
  "kernelspec": {
   "display_name": "Python 3",
   "language": "python",
   "name": "python3"
  },
  "language_info": {
   "codemirror_mode": {
    "name": "ipython",
    "version": 3
   },
   "file_extension": ".py",
   "mimetype": "text/x-python",
   "name": "python",
   "nbconvert_exporter": "python",
   "pygments_lexer": "ipython3",
   "version": "3.6.1"
  }
 },
 "nbformat": 4,
 "nbformat_minor": 2
}
