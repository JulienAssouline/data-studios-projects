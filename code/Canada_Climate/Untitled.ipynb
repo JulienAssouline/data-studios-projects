{
 "cells": [
  {
   "cell_type": "code",
   "execution_count": 2,
   "metadata": {},
   "outputs": [],
   "source": [
    "import pandas as pd\n"
   ]
  },
  {
   "cell_type": "code",
   "execution_count": 3,
   "metadata": {
    "collapsed": true
   },
   "outputs": [],
   "source": [
    "df = pd.read_csv(\"Canadian_cities_climate.csv\")"
   ]
  },
  {
   "cell_type": "code",
   "execution_count": 4,
   "metadata": {},
   "outputs": [
    {
     "data": {
      "text/html": [
       "<div>\n",
       "<style>\n",
       "    .dataframe thead tr:only-child th {\n",
       "        text-align: right;\n",
       "    }\n",
       "\n",
       "    .dataframe thead th {\n",
       "        text-align: left;\n",
       "    }\n",
       "\n",
       "    .dataframe tbody tr th {\n",
       "        vertical-align: top;\n",
       "    }\n",
       "</style>\n",
       "<table border=\"1\" class=\"dataframe\">\n",
       "  <thead>\n",
       "    <tr style=\"text-align: right;\">\n",
       "      <th></th>\n",
       "      <th>Unnamed: 0</th>\n",
       "      <th>Year</th>\n",
       "      <th>Province</th>\n",
       "      <th>code</th>\n",
       "      <th>City</th>\n",
       "      <th>Annual</th>\n",
       "      <th>Month</th>\n",
       "      <th>Temperature</th>\n",
       "    </tr>\n",
       "  </thead>\n",
       "  <tbody>\n",
       "    <tr>\n",
       "      <th>0</th>\n",
       "      <td>0</td>\n",
       "      <td>1913</td>\n",
       "      <td>BC</td>\n",
       "      <td>1017230</td>\n",
       "      <td>SHAWNIGAN LAKE</td>\n",
       "      <td>NaN</td>\n",
       "      <td>Jan</td>\n",
       "      <td>NaN</td>\n",
       "    </tr>\n",
       "    <tr>\n",
       "      <th>1</th>\n",
       "      <td>1</td>\n",
       "      <td>1914</td>\n",
       "      <td>BC</td>\n",
       "      <td>1017230</td>\n",
       "      <td>SHAWNIGAN LAKE</td>\n",
       "      <td>9.7</td>\n",
       "      <td>Jan</td>\n",
       "      <td>3.1</td>\n",
       "    </tr>\n",
       "    <tr>\n",
       "      <th>2</th>\n",
       "      <td>2</td>\n",
       "      <td>1915</td>\n",
       "      <td>BC</td>\n",
       "      <td>1017230</td>\n",
       "      <td>SHAWNIGAN LAKE</td>\n",
       "      <td>9.9</td>\n",
       "      <td>Jan</td>\n",
       "      <td>2.1</td>\n",
       "    </tr>\n",
       "    <tr>\n",
       "      <th>3</th>\n",
       "      <td>3</td>\n",
       "      <td>1916</td>\n",
       "      <td>BC</td>\n",
       "      <td>1017230</td>\n",
       "      <td>SHAWNIGAN LAKE</td>\n",
       "      <td>7.8</td>\n",
       "      <td>Jan</td>\n",
       "      <td>-4.6</td>\n",
       "    </tr>\n",
       "    <tr>\n",
       "      <th>4</th>\n",
       "      <td>4</td>\n",
       "      <td>1917</td>\n",
       "      <td>BC</td>\n",
       "      <td>1017230</td>\n",
       "      <td>SHAWNIGAN LAKE</td>\n",
       "      <td>8.6</td>\n",
       "      <td>Jan</td>\n",
       "      <td>0.5</td>\n",
       "    </tr>\n",
       "  </tbody>\n",
       "</table>\n",
       "</div>"
      ],
      "text/plain": [
       "   Unnamed: 0  Year Province     code            City  Annual Month  \\\n",
       "0           0  1913       BC  1017230  SHAWNIGAN LAKE     NaN   Jan   \n",
       "1           1  1914       BC  1017230  SHAWNIGAN LAKE     9.7   Jan   \n",
       "2           2  1915       BC  1017230  SHAWNIGAN LAKE     9.9   Jan   \n",
       "3           3  1916       BC  1017230  SHAWNIGAN LAKE     7.8   Jan   \n",
       "4           4  1917       BC  1017230  SHAWNIGAN LAKE     8.6   Jan   \n",
       "\n",
       "   Temperature  \n",
       "0          NaN  \n",
       "1          3.1  \n",
       "2          2.1  \n",
       "3         -4.6  \n",
       "4          0.5  "
      ]
     },
     "execution_count": 4,
     "metadata": {},
     "output_type": "execute_result"
    }
   ],
   "source": [
    "df.head()"
   ]
  },
  {
   "cell_type": "code",
   "execution_count": 11,
   "metadata": {},
   "outputs": [
    {
     "data": {
      "text/plain": [
       "(17808, 8)"
      ]
     },
     "execution_count": 11,
     "metadata": {},
     "output_type": "execute_result"
    }
   ],
   "source": [
    "new_df.shape"
   ]
  },
  {
   "cell_type": "code",
   "execution_count": null,
   "metadata": {
    "collapsed": true
   },
   "outputs": [],
   "source": []
  },
  {
   "cell_type": "code",
   "execution_count": 16,
   "metadata": {
    "collapsed": true
   },
   "outputs": [],
   "source": [
    "new_df = df[(df[\"Province\"] == \"PE\") | (df[\"Province\"] == \"NB\")]"
   ]
  },
  {
   "cell_type": "code",
   "execution_count": 17,
   "metadata": {},
   "outputs": [],
   "source": [
    "new_df = new_df[(new_df[\"City\"]== \"SAINT JOHN\") | (new_df[\"City\"]== \"FREDERICTON\")| (new_df[\"City\"]== \"CHARLOTTETOWN\")| (new_df[\"City\"]== \"SUMMERSIDE\")]"
   ]
  },
  {
   "cell_type": "code",
   "execution_count": 18,
   "metadata": {},
   "outputs": [
    {
     "data": {
      "text/plain": [
       "SAINT JOHN       1764\n",
       "FREDERICTON      1764\n",
       "CHARLOTTETOWN    1752\n",
       "SUMMERSIDE        888\n",
       "Name: City, dtype: int64"
      ]
     },
     "execution_count": 18,
     "metadata": {},
     "output_type": "execute_result"
    }
   ],
   "source": [
    "new_df[\"City\"].value_counts()"
   ]
  },
  {
   "cell_type": "code",
   "execution_count": 19,
   "metadata": {},
   "outputs": [
    {
     "data": {
      "text/plain": [
       "(6168, 8)"
      ]
     },
     "execution_count": 19,
     "metadata": {},
     "output_type": "execute_result"
    }
   ],
   "source": [
    "new_df.shape"
   ]
  },
  {
   "cell_type": "code",
   "execution_count": 20,
   "metadata": {},
   "outputs": [],
   "source": [
    "new_df.to_csv(\"example_data.csv\")"
   ]
  },
  {
   "cell_type": "code",
   "execution_count": null,
   "metadata": {
    "collapsed": true
   },
   "outputs": [],
   "source": []
  }
 ],
 "metadata": {
  "kernelspec": {
   "display_name": "Python 3",
   "language": "python",
   "name": "python3"
  },
  "language_info": {
   "codemirror_mode": {
    "name": "ipython",
    "version": 3
   },
   "file_extension": ".py",
   "mimetype": "text/x-python",
   "name": "python",
   "nbconvert_exporter": "python",
   "pygments_lexer": "ipython3",
   "version": "3.6.1"
  }
 },
 "nbformat": 4,
 "nbformat_minor": 2
}
