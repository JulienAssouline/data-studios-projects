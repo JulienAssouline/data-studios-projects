{
 "cells": [
  {
   "cell_type": "code",
   "execution_count": 93,
   "metadata": {
    "collapsed": true
   },
   "outputs": [],
   "source": [
    "import requests as rq\n",
    "from bs4 import BeautifulSoup\n",
    "import pandas as pd"
   ]
  },
  {
   "cell_type": "code",
   "execution_count": null,
   "metadata": {
    "collapsed": true
   },
   "outputs": [],
   "source": []
  },
  {
   "cell_type": "code",
   "execution_count": 116,
   "metadata": {
    "collapsed": true
   },
   "outputs": [],
   "source": [
    "Season_1_list = [\"Winter_Is_Coming\", \"The_Kingsroad\", \"Lord_Snow\", \"Cripples,_Bastards,_and_Broken_Things\", \"The_Wolf_and_the_Lion\", \"A_Golden_Crown\", \"You_Win_or_You_Die\", \"The_Pointy_End\", \"Baelor\", \"Fire_and_Blood\"]"
   ]
  },
  {
   "cell_type": "code",
   "execution_count": 117,
   "metadata": {},
   "outputs": [
    {
     "data": {
      "text/plain": [
       "['Winter_Is_Coming',\n",
       " 'The_Kingsroad',\n",
       " 'Lord_Snow',\n",
       " 'Cripples,_Bastards,_and_Broken_Things',\n",
       " 'The_Wolf_and_The_Lion',\n",
       " 'A_Golden_Crown',\n",
       " 'You_Win_or_You_Die',\n",
       " 'The_Pointy_End',\n",
       " 'Baelor',\n",
       " 'Fire_and_Blood']"
      ]
     },
     "execution_count": 117,
     "metadata": {},
     "output_type": "execute_result"
    }
   ],
   "source": [
    "Season_1_list"
   ]
  },
  {
   "cell_type": "code",
   "execution_count": 118,
   "metadata": {},
   "outputs": [],
   "source": [
    "Season_1 = pd.DataFrame(Season_1_list)"
   ]
  },
  {
   "cell_type": "code",
   "execution_count": 119,
   "metadata": {},
   "outputs": [
    {
     "data": {
      "text/plain": [
       "0    http://gameofthrones.wikia.com/wiki/Winter_Is_...\n",
       "1    http://gameofthrones.wikia.com/wiki/The_Kingsroad\n",
       "2        http://gameofthrones.wikia.com/wiki/Lord_Snow\n",
       "3    http://gameofthrones.wikia.com/wiki/Cripples,_...\n",
       "4    http://gameofthrones.wikia.com/wiki/The_Wolf_a...\n",
       "5    http://gameofthrones.wikia.com/wiki/A_Golden_C...\n",
       "6    http://gameofthrones.wikia.com/wiki/You_Win_or...\n",
       "7    http://gameofthrones.wikia.com/wiki/The_Pointy...\n",
       "8           http://gameofthrones.wikia.com/wiki/Baelor\n",
       "9    http://gameofthrones.wikia.com/wiki/Fire_and_B...\n",
       "Name: 0, dtype: object"
      ]
     },
     "execution_count": 119,
     "metadata": {},
     "output_type": "execute_result"
    }
   ],
   "source": [
    "url = \"http://gameofthrones.wikia.com/wiki/\" + Season_1[0]\n",
    "url"
   ]
  },
  {
   "cell_type": "code",
   "execution_count": 120,
   "metadata": {},
   "outputs": [
    {
     "name": "stdout",
     "output_type": "stream",
     "text": [
      "['Ser Waymar Royce', 'Gared', 'Lord Jon Arryn (Hand of the king & Warden of the East)', 'Will', 'At least 1 unnamed Dothraki', ''] 1\n",
      "[' Catspaw assassin', ' Mycah', ' Lady', ''] 2\n",
      "[' None', ''] 3\n",
      "['Ser Hugh of the Vale', ''] 4\n",
      "[' Wallen', ' Stiv', ' Ser Vardis Egen', ' Prince Viserys Targaryen', ' 1 unnamed wildling', ''] 5\n",
      "[' King Robert Baratheon', ' Varly', ' At least 20 unnamed Stark soldiers', ''] 6\n",
      "[' Vayon Poole, speared by a Lannister guardsman', ' Septa Mordane, stabbed by Lannister guardsmen', ' Syrio Forel, killed by Meryn Trant', ' Stableboy, stabbed by Arya Stark', ' Mago, throat slit by Drogo', ' Jafer Flowers, burned by black brothers', ' Othor, burned by Jon Snow', ' At least 5 unnamed Stark soldiers', ' At least 14 unnamed Villagers', ''] 7\n",
      "[' Qotho', ' Lord Eddard Stark (Warden of The North & Hand of The King)', ' Many unnamed Stark soldiers', ' Many unnamed Lannister soldiers', ''] 8\n",
      "[' Rhaego', ' Khal Drogo', ' Mirri Maz Duur', ''] 9\n"
     ]
    }
   ],
   "source": [
    "url = \"http://gameofthrones.wikia.com/wiki/\" + Season_1[0]\n",
    "url\n",
    "count = 0\n",
    "for link in url:\n",
    "    response = rq.post(link)\n",
    "    doc = BeautifulSoup(response.text, \"html.parser\")\n",
    "    if doc.find_all(\"h3\", text = re.compile('Deaths')):\n",
    "        deaths = doc.find_all(\"h3\", text = re.compile('Deaths'))[0].find_next_sibling(\"\").text.split(\"\\n\")\n",
    "        count += 1\n",
    "        print(deaths, count)\n",
    "    if doc.find_all(\"h4\", text = re.compile('Deaths')):\n",
    "        deaths_2 = doc.find_all(\"h4\", text = re.compile('Deaths'))[0].find_next_sibling(\"\").text.split(\"\\n\")\n",
    "        count += 1\n",
    "        print(deaths_2, count)\n"
   ]
  },
  {
   "cell_type": "code",
   "execution_count": 20,
   "metadata": {},
   "outputs": [
    {
     "data": {
      "text/plain": [
       "'Deaths'"
      ]
     },
     "execution_count": 20,
     "metadata": {},
     "output_type": "execute_result"
    }
   ],
   "source": [
    "url = \"http://gameofthrones.wikia.com/wiki/The_Kingsroad\"\n",
    "\n",
    "deaths = doc.find_all(\"h3\", text = re.compile('Deaths'))[0].find_next_sibling(\"\").text.split(\"\\n\")\n"
   ]
  },
  {
   "cell_type": "code",
   "execution_count": 89,
   "metadata": {},
   "outputs": [
    {
     "data": {
      "text/plain": [
       "['Ser Waymar Royce',\n",
       " 'Gared',\n",
       " 'Lord Jon Arryn (Hand of the king & Warden of the East)',\n",
       " 'Will',\n",
       " 'At least 1 unnamed Dothraki',\n",
       " '']"
      ]
     },
     "execution_count": 89,
     "metadata": {},
     "output_type": "execute_result"
    }
   ],
   "source": [
    "import re\n",
    "\n",
    "Winter_is_coming_deaths = doc.find_all(\"h3\", text = re.compile('Deaths'))[0].find_next_sibling(\"\").text.split(\"\\n\")\n",
    "Winter_is_coming_deaths"
   ]
  },
  {
   "cell_type": "code",
   "execution_count": 28,
   "metadata": {},
   "outputs": [
    {
     "data": {
      "text/plain": [
       "<span class=\"mw-headline\" id=\"Deaths\">Deaths</span>"
      ]
     },
     "execution_count": 28,
     "metadata": {},
     "output_type": "execute_result"
    }
   ],
   "source": []
  },
  {
   "cell_type": "code",
   "execution_count": null,
   "metadata": {
    "collapsed": true
   },
   "outputs": [],
   "source": []
  }
 ],
 "metadata": {
  "kernelspec": {
   "display_name": "Python 3",
   "language": "python",
   "name": "python3"
  },
  "language_info": {
   "codemirror_mode": {
    "name": "ipython",
    "version": 3
   },
   "file_extension": ".py",
   "mimetype": "text/x-python",
   "name": "python",
   "nbconvert_exporter": "python",
   "pygments_lexer": "ipython3",
   "version": "3.6.1"
  }
 },
 "nbformat": 4,
 "nbformat_minor": 2
}
