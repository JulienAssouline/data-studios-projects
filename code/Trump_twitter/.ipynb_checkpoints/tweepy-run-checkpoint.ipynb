{
 "cells": [
  {
   "cell_type": "code",
   "execution_count": 1,
   "metadata": {},
   "outputs": [
    {
     "ename": "ModuleNotFoundError",
     "evalue": "No module named 'tweepy'",
     "output_type": "error",
     "traceback": [
      "\u001b[0;31m---------------------------------------------------------------------------\u001b[0m",
      "\u001b[0;31mModuleNotFoundError\u001b[0m                       Traceback (most recent call last)",
      "\u001b[0;32m<ipython-input-1-00839a3789b5>\u001b[0m in \u001b[0;36m<module>\u001b[0;34m()\u001b[0m\n\u001b[0;32m----> 1\u001b[0;31m \u001b[0;32mimport\u001b[0m \u001b[0mtweepy\u001b[0m\u001b[0;34m\u001b[0m\u001b[0m\n\u001b[0m\u001b[1;32m      2\u001b[0m \u001b[0;32mfrom\u001b[0m \u001b[0mtime\u001b[0m \u001b[0;32mimport\u001b[0m \u001b[0msleep\u001b[0m\u001b[0;34m\u001b[0m\u001b[0m\n\u001b[1;32m      3\u001b[0m \u001b[0;32mfrom\u001b[0m \u001b[0mDataManager\u001b[0m \u001b[0;32mimport\u001b[0m \u001b[0mDataManager\u001b[0m\u001b[0;34m\u001b[0m\u001b[0m\n\u001b[1;32m      4\u001b[0m \u001b[0;32mimport\u001b[0m \u001b[0mpandas\u001b[0m \u001b[0;32mas\u001b[0m \u001b[0mpd\u001b[0m\u001b[0;34m\u001b[0m\u001b[0m\n",
      "\u001b[0;31mModuleNotFoundError\u001b[0m: No module named 'tweepy'"
     ]
    }
   ],
   "source": [
    "import tweepy\n",
    "from time import sleep\n",
    "from DataManager import DataManager\n",
    "import pandas as pd"
   ]
  },
  {
   "cell_type": "code",
   "execution_count": null,
   "metadata": {
    "collapsed": true
   },
   "outputs": [],
   "source": [
    "from requests.exceptions import Timeout, ConnectionError\n",
    "from requests.packages.urllib3.exceptions import ReadTimeoutError"
   ]
  },
  {
   "cell_type": "markdown",
   "metadata": {},
   "source": [
    "# Here you set your keys, get your own from the twitter page, you have to register your phone"
   ]
  },
  {
   "cell_type": "code",
   "execution_count": null,
   "metadata": {
    "collapsed": true
   },
   "outputs": [],
   "source": [
    "pd.options.display.max_colwidth = 1600"
   ]
  },
  {
   "cell_type": "code",
   "execution_count": null,
   "metadata": {
    "collapsed": true
   },
   "outputs": [],
   "source": [
    "consumer_key = 'DejAUSB73mmaBDJxPxn5xNSgX'\n",
    "consumer_secret = 'vq3jwehBHzPv0fc4rd5AyVkpUOxRRPkTFgh6Qs8fzGwIx1pkrl'\n",
    "access_token = '808325232687775744-HOnh3eBKmbn8ZVcw6T1rZgcNSN8heg1'\n",
    "access_token_secret = 'HJ1dx748HKhh7J9KIMQsAHhdsKi4yzTrLGHBcTmmNWVx0'"
   ]
  },
  {
   "cell_type": "code",
   "execution_count": null,
   "metadata": {
    "collapsed": true
   },
   "outputs": [],
   "source": [
    "auth = tweepy.OAuthHandler(consumer_key,consumer_secret)\n",
    "auth.set_access_token(access_token,access_token_secret)\n",
    "auth.secure = True\n",
    "api = tweepy.API(auth)\n",
    "myBot = api.get_user(screen_name = '@Throawaybro')\n",
    "places = api.geo_search(query=\"UK\", granularity=\"country\")\n",
    "place_id = places[0].id\n",
    "\n",
    "\n",
    "\n",
    "#api.create_list(name = \"Sorry for adding you\", mode=\"public\", description = 'I had to add you sorry :( ')\n",
    "#print(str(api.get_user(screen_name = '@IoannisAntypas')))\n",
    "# myList = api.get_list(owner=myBot, slug='sorry-for-adding-you')"
   ]
  },
  {
   "cell_type": "markdown",
   "metadata": {
    "collapsed": true
   },
   "source": [
    "# This is optional if you want to store them in text files or create lists or retweet people"
   ]
  },
  {
   "cell_type": "code",
   "execution_count": null,
   "metadata": {},
   "outputs": [],
   "source": [
    "#Create a list and add people in it, for monitoring?\n",
    "myList = api.get_list(\"@\"+ myBot.screen_name, slug='sorry-for-adding-you')\n",
    "print(\"Running bot: @\" + myBot.screen_name + \"\\n Using list: \" + myList.name + \" \\n Members count: \" + str(myList.member_count) + \" Subs count: \" + str(myList.subscriber_count))"
   ]
  },
  {
   "cell_type": "code",
   "execution_count": null,
   "metadata": {
    "collapsed": true
   },
   "outputs": [],
   "source": [
    "myData = DataManager(\"Datafiletweet.txt\")\n",
    "listData = DataManager(\"listData.txt\")"
   ]
  },
  {
   "cell_type": "code",
   "execution_count": null,
   "metadata": {
    "collapsed": true
   },
   "outputs": [],
   "source": [
    "#text , user.name, description, followers_count, friends_count, created_at, favourites_count, time_zone, retweet_count"
   ]
  },
  {
   "cell_type": "markdown",
   "metadata": {
    "collapsed": true
   },
   "source": [
    "# This here accesses the API and downloads the jsons very fast\n",
    "\n",
    "\n",
    "It then pauses before reaching the limit. It automatically stores the following data in a list. Pay attention to the \"q=\" part and the \"lang\" and the .\"items\""
   ]
  },
  {
   "cell_type": "code",
   "execution_count": null,
   "metadata": {},
   "outputs": [],
   "source": [
    "our_list = []\n",
    "\n",
    "\n",
    "count_tweet = 0\n",
    "for tweet in tweepy.Cursor(api.search,q='#metoo',lang='en',include_entities=True).items(600000):\n",
    "    if not tweet.retweeted:\n",
    "        count_tweet += 1\n",
    "        try:\n",
    "            dictionary = {}\n",
    "\n",
    "\n",
    "            print(\"\\n\\nFound tweet by: @\" + tweet.user.screen_name)\n",
    "            print(count_tweet)\n",
    "            if count_tweet == 2500:\n",
    "                print(\"Too much gonna sleep!\")\n",
    "                sleep(900)\n",
    "                count_tweet = 0\n",
    "                print(\"Okay reset!\")\n",
    "                continue\n",
    "\n",
    "\n",
    "\n",
    "\n",
    "\n",
    "            if tweet.user.id == myBot.id or (myData.is_stored_b(str(tweet.id))):\n",
    "                continue\n",
    "            screen_name = str(tweet.user.screen_name)\n",
    "            if screen_name:\n",
    "                dictionary['screen_name'] = screen_name\n",
    "\n",
    "            tweet_creation_date = str(tweet.created_at)\n",
    "            if tweet_creation_date:\n",
    "                dictionary['tweet_creation_date'] = tweet_creation_date\n",
    "\n",
    "\n",
    "            user_description = str(tweet.user.description)\n",
    "            if user_description:\n",
    "                dictionary['user_description'] = user_description\n",
    "            tweet_text = str(tweet.text)\n",
    "            if tweet_text:\n",
    "                dictionary['tweet_text'] = tweet_text\n",
    "            followers_count = str(tweet.user.followers_count)\n",
    "            if followers_count:\n",
    "                dictionary['followers_count'] = followers_count\n",
    "\n",
    "            account_creation_date = str(tweet.user.created_at)\n",
    "            if account_creation_date:\n",
    "                dictionary['account_creation_date'] = account_creation_date\n",
    "\n",
    "            time_zone = str(tweet.user.time_zone)\n",
    "            if time_zone:\n",
    "                dictionary['time_zone'] = time_zone\n",
    "\n",
    "            friends_count = str(tweet.user.friends_count)      \n",
    "            if friends_count:\n",
    "                dictionary['friends_count'] = friends_count\n",
    "\n",
    "            coordinates = str(tweet.coordinates)\n",
    "            if coordinates:\n",
    "                dictionary['coordinates'] = coordinates\n",
    "            user_id = str(tweet.user.id)\n",
    "            if user_id:\n",
    "                dictionary['user_id'] = user_id\n",
    "            location = str(tweet.user.location)\n",
    "            if location:\n",
    "                dictionary['location'] = location\n",
    "            total_retweets = str(tweet.retweet_count)\n",
    "            if total_retweets:\n",
    "                dictionary['total_retweets'] = total_retweets\n",
    "\n",
    "            our_list.append(dictionary)\n",
    "        except (Timeout, ssl.SSLError, ReadTimeoutError, ConnectionError) as exc:\n",
    "            continue\n",
    "\n",
    "\n",
    "        except tweepy.TweepError as e:\n",
    "            print(e.reason)\n",
    "            if \"429\" in e.reason:\n",
    "                print(\"Found a 429!!!\")\n",
    "                sleep(1000)\n",
    "            else:\n",
    "                sleep(10)\n",
    "            continue\n",
    "            if \"403\" in e.reason:\n",
    "                if count403 > 15:\n",
    "                    print(\"There are too many 403 errors. Pausing for 30 mins\")\n",
    "                    sleep(1800)\n",
    "                else:\n",
    "                    count403 += 1\n",
    "                    print(\"Another 403 error. Total: \" + str(count403))\n",
    "                    sleep(1)\n",
    "        \n",
    "        except StopIteration:\n",
    "            break\n",
    "\n",
    "\n"
   ]
  },
  {
   "cell_type": "markdown",
   "metadata": {},
   "source": [
    "# This snippet takes the list and creates a df and downloads it"
   ]
  },
  {
   "cell_type": "code",
   "execution_count": null,
   "metadata": {
    "collapsed": true
   },
   "outputs": [],
   "source": [
    "df = pd.DataFrame(our_list)\n",
    "df.drop_duplicates(subset='tweet_text', keep=False, inplace=True)\n",
    "df.tweet_text = df.tweet_text.str.lower()\n",
    "df.user_description = df.user_description.str.lower()\n",
    "df.to_csv(\"results.csv\", index=False)"
   ]
  },
  {
   "cell_type": "markdown",
   "metadata": {},
   "source": [
    "# If you wanna look beyond current tweets this a second slower script I made\n",
    "The twitter API goes only 7 days back. This is to search whenever. It collects tweet ids and stores them in a json file"
   ]
  },
  {
   "cell_type": "code",
   "execution_count": null,
   "metadata": {
    "collapsed": true
   },
   "outputs": [],
   "source": [
    "from bs4 import BeautifulSoup\n",
    "import requests as rq"
   ]
  },
  {
   "cell_type": "code",
   "execution_count": null,
   "metadata": {
    "collapsed": true
   },
   "outputs": [],
   "source": []
  },
  {
   "cell_type": "code",
   "execution_count": null,
   "metadata": {
    "collapsed": true
   },
   "outputs": [],
   "source": [
    "from selenium import webdriver\n",
    "from selenium.webdriver.common.keys import Keys\n",
    "from selenium.common.exceptions import NoSuchElementException, StaleElementReferenceException\n",
    "from time import sleep\n",
    "import json\n",
    "import datetime\n",
    "\n",
    "\n",
    "# edit these three variables\n",
    "user = 'balancetonporc'\n",
    "start = datetime.datetime(2017, 10, 15)  # year, month, day\n",
    "end = datetime.datetime(2017, 10, 25)  # year, month, day\n",
    "\n",
    "# only edit these if you're having problems\n",
    "delay = 1  # time to wait on each page load before reading the page\n",
    "driver = webdriver.Chrome()  # options are Chrome() Firefox() Safari()\n",
    "\n",
    "\n",
    "# don't mess with this stuff\n",
    "twitter_ids_filename = 'all_ids.json'\n",
    "days = (end - start).days + 1\n",
    "id_selector = '.time a.tweet-timestamp'\n",
    "tweet_selector = 'li.js-stream-item:not(.AdaptiveStreamUserGallery)'\n",
    "user = user.lower()\n",
    "ids = []\n",
    "\n",
    "\n",
    "def format_day(date):\n",
    "    day = '0' + str(date.day) if len(str(date.day)) == 1 else str(date.day)\n",
    "    month = '0' + str(date.month) if len(str(date.month)) == 1 else str(date.month)\n",
    "    year = str(date.year)\n",
    "    return '-'.join([year, month, day])\n",
    "\n",
    "def form_url(since, until):\n",
    "    p1 = 'https://twitter.com/search?l=fr&q=%23'\n",
    "    p2 =  user + '%20since%3A' + since + '%20until%3A' + until + 'include%3Aretweets&src=typd'\n",
    "    return p1 + p2\n",
    "\n",
    "def increment_day(date, i):\n",
    "    return date + datetime.timedelta(days=i)\n",
    "\n",
    "for day in range(days):\n",
    "    d1 = format_day(increment_day(start, 0))\n",
    "    d2 = format_day(increment_day(start, 1))\n",
    "    url = form_url(d1, d2)\n",
    "    print(url)\n",
    "    print(d1)\n",
    "    driver.get(url)\n",
    "    sleep(delay)\n",
    "\n",
    "    try:\n",
    "        found_tweets = driver.find_elements_by_css_selector(tweet_selector)\n",
    "        increment = 10\n",
    "\n",
    "        while len(found_tweets) >= increment:\n",
    "            print('scrolling down to load more tweets')\n",
    "            driver.execute_script('window.scrollTo(0, document.body.scrollHeight);')\n",
    "            sleep(delay)\n",
    "            found_tweets = driver.find_elements_by_css_selector(tweet_selector)\n",
    "            increment += 10\n",
    "\n",
    "           # found_tweets += next_tweets_chunk[:]\n",
    "\n",
    "        print('{} tweets found, {} total'.format(len(found_tweets), len(ids)))\n",
    "\n",
    "\n",
    "        for tweet in found_tweets:\n",
    "            try:\n",
    "                id = tweet.find_element_by_css_selector(id_selector).get_attribute('href').split('/')[-1]\n",
    "                ids.append(id)\n",
    "            except StaleElementReferenceException as e:\n",
    "                print('lost element reference', tweet)\n",
    "\n",
    "    except NoSuchElementException:\n",
    "        print('no tweets on this day')\n",
    "\n",
    "    start = increment_day(start, 1)\n",
    "\n",
    "\n",
    "try:\n",
    "    with open(twitter_ids_filename) as f:\n",
    "        all_ids = ids + json.load(f)\n",
    "        data_to_write = list(set(all_ids))\n",
    "        print('tweets found on this scrape: ', len(ids))\n",
    "        print('total tweet count: ', len(data_to_write))\n",
    "except FileNotFoundError:\n",
    "    with open(twitter_ids_filename, 'w') as f:\n",
    "        all_ids = ids\n",
    "        data_to_write = list(set(all_ids))\n",
    "        print('tweets found on this scrape: ', len(ids))\n",
    "        print('total tweet count: ', len(data_to_write))\n",
    "\n",
    "with open(twitter_ids_filename, 'w') as outfile:\n",
    "    json.dump(data_to_write, outfile)\n",
    "\n",
    "print('all done here')\n",
    "#driver.close()\n"
   ]
  },
  {
   "cell_type": "code",
   "execution_count": null,
   "metadata": {
    "collapsed": true
   },
   "outputs": [],
   "source": [
    "# https://twitter.com/search?l=fr&q=%23moiaussi%20since%3A2017-11-06%20until%3A2017-11-07&src=typd\n",
    "    \n",
    "# https://twitter.com/search?l=fr&q=#moiaussi%20since%3A2017-11-07%20until%3A2017-11-08include%3Aretweets&src=typd\n"
   ]
  },
  {
   "cell_type": "code",
   "execution_count": null,
   "metadata": {
    "collapsed": true
   },
   "outputs": [],
   "source": []
  },
  {
   "cell_type": "code",
   "execution_count": null,
   "metadata": {
    "collapsed": true
   },
   "outputs": [],
   "source": [
    "# id"
   ]
  },
  {
   "cell_type": "code",
   "execution_count": null,
   "metadata": {
    "collapsed": true
   },
   "outputs": [],
   "source": [
    "# found_tweets."
   ]
  },
  {
   "cell_type": "code",
   "execution_count": null,
   "metadata": {
    "collapsed": true
   },
   "outputs": [],
   "source": []
  },
  {
   "cell_type": "code",
   "execution_count": null,
   "metadata": {
    "collapsed": true
   },
   "outputs": [],
   "source": []
  },
  {
   "cell_type": "markdown",
   "metadata": {
    "collapsed": true
   },
   "source": [
    "# Now we take those ids and request the tweet jsons"
   ]
  },
  {
   "cell_type": "code",
   "execution_count": null,
   "metadata": {
    "collapsed": true
   },
   "outputs": [],
   "source": [
    "import tweepy\n",
    "import json\n",
    "import math\n",
    "import glob\n",
    "import csv\n",
    "import zipfile\n",
    "import zlib\n",
    "from tweepy import TweepError\n",
    "from time import sleep\n",
    "\n"
   ]
  },
  {
   "cell_type": "markdown",
   "metadata": {},
   "source": [
    "# BUFFER"
   ]
  },
  {
   "cell_type": "code",
   "execution_count": null,
   "metadata": {},
   "outputs": [],
   "source": [
    "our_list = []\n",
    "user = '#metoo'\n",
    "\n",
    "with open('api_keys.json') as f:\n",
    "    keys = json.load(f)\n",
    "\n",
    "auth = tweepy.OAuthHandler(consumer_key,consumer_secret)\n",
    "auth.set_access_token(access_token,access_token_secret)\n",
    "auth.secure = True\n",
    "api = tweepy.API(auth)\n",
    "\n",
    "user = user.lower()\n",
    "\n",
    "with open('all_ids.json') as f:\n",
    "    ids = json.load(f)\n",
    "\n",
    "print('total ids: {}'.format(len(ids)))\n",
    "\n",
    "all_data = []\n",
    "start = 0\n",
    "end = 100\n",
    "limit = len(ids)\n",
    "i = math.ceil(limit / 100)\n",
    "\n",
    "for go in range(i):\n",
    "    print('currently getting {} - {}'.format(start, end))\n",
    "    sleep(6)  # needed to prevent hitting API rate limit\n",
    "    id_batch = ids[start:end]\n",
    "    start += 100\n",
    "    end += 100\n",
    "    tweets = api.statuses_lookup(id_batch)\n",
    "    for tweet in tweets:\n",
    "        all_data.append(dict(tweet._json))\n",
    "\n",
    "print('metadata collection complete')\n",
    "\n",
    "\n"
   ]
  },
  {
   "cell_type": "code",
   "execution_count": null,
   "metadata": {},
   "outputs": [],
   "source": [
    "all_data[1]"
   ]
  },
  {
   "cell_type": "markdown",
   "metadata": {},
   "source": [
    "# Here we just extract the relevant data"
   ]
  },
  {
   "cell_type": "code",
   "execution_count": null,
   "metadata": {},
   "outputs": [],
   "source": [
    "#all_data[0]\n",
    "for tweet in all_data:\n",
    "        dictionary = {}\n",
    "        screen_name = str(tweet['user']['name'])\n",
    "        if screen_name:\n",
    "            dictionary['screen_name'] = screen_name\n",
    "\n",
    "        tweet_creation_date = str(tweet['created_at'])\n",
    "        if tweet_creation_date:\n",
    "            dictionary['tweet_creation_date'] = tweet_creation_date\n",
    "        user_description = str(tweet['user']['description'])\n",
    "        if user_description:\n",
    "            dictionary['user_description'] = user_description\n",
    "        tweet_text = str(tweet['text'])\n",
    "        if tweet_text:\n",
    "            dictionary['tweet_text'] = tweet_text\n",
    "        followers_count = str(tweet['user']['followers_count'])\n",
    "        if followers_count:\n",
    "            dictionary['followers_count'] = followers_count\n",
    "        coordinates = tweet['coordinates']\n",
    "        if coordinates:\n",
    "            dictionary['coordinates'] = coordinates\n",
    "        account_creation_date = str(tweet['user']['created_at'])\n",
    "        if account_creation_date:\n",
    "            dictionary['account_creation_date'] = account_creation_date\n",
    "\n",
    "        time_zone = str(tweet['user']['time_zone'])\n",
    "        if time_zone:\n",
    "            dictionary['time_zone'] = time_zone\n",
    "\n",
    "        friends_count = str(tweet['user']['friends_count'])      \n",
    "        if friends_count:\n",
    "            dictionary['friends_count'] = friends_count\n",
    "\n",
    "        user_id = str(tweet['user']['id'])\n",
    "        if user_id:\n",
    "            dictionary['user_id'] = user_id\n",
    "        location = str(tweet['user']['location'])\n",
    "        if location:\n",
    "            dictionary['location'] = location\n",
    "        total_retweets = str(tweet['retweet_count'])\n",
    "        if total_retweets:\n",
    "            dictionary['total_retweets'] = total_retweets\n",
    "\n",
    "            our_list.append(dictionary)\n",
    "\n",
    "print(\"done\")\n",
    "\n",
    "\n"
   ]
  },
  {
   "cell_type": "code",
   "execution_count": null,
   "metadata": {
    "collapsed": true
   },
   "outputs": [],
   "source": [
    "df = pd.DataFrame(our_list)"
   ]
  },
  {
   "cell_type": "code",
   "execution_count": null,
   "metadata": {
    "collapsed": true
   },
   "outputs": [],
   "source": [
    "df.to_csv(\"greek_tweets.csv\", index=False)"
   ]
  },
  {
   "cell_type": "code",
   "execution_count": null,
   "metadata": {},
   "outputs": [],
   "source": [
    "df.tail()"
   ]
  },
  {
   "cell_type": "markdown",
   "metadata": {
    "collapsed": true
   },
   "source": [
    "# The rest is just test data that I would have cleaned :) "
   ]
  },
  {
   "cell_type": "code",
   "execution_count": null,
   "metadata": {
    "collapsed": true
   },
   "outputs": [],
   "source": []
  },
  {
   "cell_type": "code",
   "execution_count": null,
   "metadata": {
    "collapsed": true
   },
   "outputs": [],
   "source": []
  },
  {
   "cell_type": "code",
   "execution_count": null,
   "metadata": {},
   "outputs": [],
   "source": [
    "# from selenium import webdriver\n",
    "# from selenium.webdriver.common.keys import Keys\n",
    "# from selenium.common.exceptions import NoSuchElementException, StaleElementReferenceException\n",
    "# from time import sleep\n",
    "# import json\n",
    "# import datetime\n",
    "\n",
    "\n",
    "# # edit these three variables\n",
    "# user = 'metoo'\n",
    "# start = datetime.datetime(2017, 10, 20)  # year, month, day\n",
    "# end = datetime.datetime(2017, 11, 12)  # year, month, day\n",
    "\n",
    "# # only edit these if you're having problems\n",
    "# delay = 1  # time to wait on each page load before reading the page\n",
    "# driver = webdriver.Chrome()  # options are Chrome() Firefox() Safari()\n",
    "\n",
    "\n",
    "# # don't mess with this stuff\n",
    "# twitter_ids_filename = 'all_ids.json'\n",
    "# days = (end - start).days + 1\n",
    "# id_selector = '.time a.tweet-timestamp'\n",
    "# tweet_selector = 'li.js-stream-item:not(.AdaptiveStreamUserGallery)'\n",
    "# user = user.lower()\n",
    "# ids = []\n",
    "\n",
    "\n",
    "# def format_day(date):\n",
    "#     day = '0' + str(date.day) if len(str(date.day)) == 1 else str(date.day)\n",
    "#     month = '0' + str(date.month) if len(str(date.month)) == 1 else str(date.month)\n",
    "#     year = str(date.year)\n",
    "#     return '-'.join([year, month, day])\n",
    "\n",
    "# def form_url(since, until):\n",
    "#     p1 = 'https://twitter.com/search?l=fr&q='\n",
    "#     p2 =  user + '%20since%3A' + since + '%20until%3A' + until + 'include%3Aretweets&src=typd'\n",
    "#     return p1 + p2\n",
    "\n",
    "# def increment_day(date, i):\n",
    "#     return date + datetime.timedelta(days=i)\n",
    "\n",
    "# for day in range(days):\n",
    "#     d1 = format_day(increment_day(start, 0))\n",
    "#     d2 = format_day(increment_day(start, 1))\n",
    "#     url = form_url(d1, d2)\n",
    "#     print(url)\n",
    "#     print(d1)\n",
    "#     driver.get(url)\n",
    "#     sleep(delay)\n",
    "\n",
    "#     try:\n",
    "#         found_tweets = driver.find_elements_by_css_selector(tweet_selector)\n",
    "#         increment = 10\n",
    "\n",
    "#         while len(found_tweets) >= increment:\n",
    "#             print('scrolling down to load more tweets')\n",
    "#             driver.execute_script('window.scrollTo(0, document.body.scrollHeight);')\n",
    "#             sleep(delay)\n",
    "#             found_tweets = driver.find_elements_by_css_selector(tweet_selector)\n",
    "#             increment += 10\n",
    "\n",
    "#            # found_tweets += next_tweets_chunk[:]\n",
    "\n",
    "#         print('{} tweets found, {} total'.format(len(found_tweets), len(ids)))\n",
    "\n",
    "\n",
    "#         for tweet in found_tweets:\n",
    "#             try:\n",
    "#                 id = tweet.find_element_by_css_selector(id_selector).get_attribute('href').split('/')[-1]\n",
    "#                 ids.append(id)\n",
    "#             except StaleElementReferenceException as e:\n",
    "#                 print('lost element reference', tweet)\n",
    "\n",
    "#     except NoSuchElementException:\n",
    "#         print('no tweets on this day')\n",
    "\n",
    "#     start = increment_day(start, 1)\n",
    "\n",
    "\n",
    "# try:\n",
    "#     with open(twitter_ids_filename) as f:\n",
    "#         all_ids = ids + json.load(f)\n",
    "#         data_to_write = list(set(all_ids))\n",
    "#         print('tweets found on this scrape: ', len(ids))\n",
    "#         print('total tweet count: ', len(data_to_write))\n",
    "# except FileNotFoundError:\n",
    "#     with open(twitter_ids_filename, 'w') as f:\n",
    "#         all_ids = ids\n",
    "#         data_to_write = list(set(all_ids))\n",
    "#         print('tweets found on this scrape: ', len(ids))\n",
    "#         print('total tweet count: ', len(data_to_write))\n",
    "\n",
    "# with open(twitter_ids_filename, 'w') as outfile:\n",
    "#     json.dump(data_to_write, outfile)\n",
    "\n",
    "# print('all done here')\n",
    "# #driver.close()\n",
    "\n"
   ]
  },
  {
   "cell_type": "code",
   "execution_count": null,
   "metadata": {
    "collapsed": true
   },
   "outputs": [],
   "source": [
    "# with open(twitter_ids_filename, 'w') as outfile:\n",
    "#     json.dump(data_to_write, outfile)\n",
    "\n"
   ]
  },
  {
   "cell_type": "code",
   "execution_count": null,
   "metadata": {},
   "outputs": [],
   "source": [
    "# data_to_write[2919]"
   ]
  },
  {
   "cell_type": "code",
   "execution_count": null,
   "metadata": {},
   "outputs": [],
   "source": []
  },
  {
   "cell_type": "code",
   "execution_count": null,
   "metadata": {
    "collapsed": true
   },
   "outputs": [],
   "source": [
    "# from selenium import webdriver\n",
    "# from selenium.webdriver.common.keys import Keys\n",
    "# from selenium.common.exceptions import NoSuchElementException, StaleElementReferenceException\n",
    "# from time import sleep\n",
    "# import json\n",
    "# import datetime\n",
    "\n",
    "\n",
    "# # edit these three variables\n",
    "# user = 'metoo'\n",
    "# start = datetime.datetime(2017, 10, 27)  # year, month, day\n",
    "# end = datetime.datetime(2017, 10, 28)  # year, month, day\n",
    "\n",
    "# # only edit these if you're having problems\n",
    "# delay = 1  # time to wait on each page load before reading the page\n",
    "# driver = webdriver.Chrome()  # options are Chrome() Firefox() Safari()\n",
    "\n",
    "\n",
    "# # don't mess with this stuff\n",
    "# twitter_ids_filename = 'all_ids.json'\n",
    "# days = (end - start).days + 1\n",
    "# id_selector = '.time a.tweet-timestamp'\n",
    "# tweet_selector = 'li.js-stream-item:not(.AdaptiveStreamUserGallery)'\n",
    "# user = user.lower()\n",
    "# ids = []\n",
    "\n",
    "\n",
    "# def format_day(date):\n",
    "#     day = '0' + str(date.day) if len(str(date.day)) == 1 else str(date.day)\n",
    "#     month = '0' + str(date.month) if len(str(date.month)) == 1 else str(date.month)\n",
    "#     year = str(date.year)\n",
    "#     return '-'.join([year, month, day])\n",
    "\n",
    "# def form_url(since, until):\n",
    "#     p1 = 'https://twitter.com/search?l=fr&q='\n",
    "#     p2 =  user + '%20since%3A' + since + '%20until%3A' + until + 'include%3Aretweets&src=typd'\n",
    "#     return p1 + p2\n",
    "\n",
    "# def increment_day(date, i):\n",
    "#     return date + datetime.timedelta(days=i)\n",
    "\n",
    "# for day in range(days):\n",
    "#     d1 = format_day(increment_day(start, 0))\n",
    "#     d2 = format_day(increment_day(start, 1))\n",
    "#     url = form_url(d1, d2)\n",
    "#     print(url)\n",
    "#     print(d1)\n",
    "#     driver.get(url)\n",
    "#     sleep(delay)\n",
    "\n",
    "#     try:\n",
    "#         found_tweets = driver.find_elements_by_css_selector(tweet_selector)\n",
    "#         increment = 10\n",
    "#         while len(found_tweets) >= increment:\n",
    "#             print('scrolling down to load more tweets')\n",
    "#             driver.execute_script('window.scrollTo(0, document.body.scrollHeight);')\n",
    "#             time.sleep(delay)\n",
    "#             found_tweets = driver.find_elements_by_css_selector(tweet_selector)\n",
    "#             all_tweets += found_tweets[:]\n",
    "\n",
    "#             print('{} tweets found, {} total'.format(len(found_tweets), len(ids)))\n",
    "#             increment += 10\n",
    "\n",
    "\n",
    "#         for tweet in all_tweets:\n",
    "#             try:\n",
    "#                 id = tweet.find_element_by_css_selector(id_selector).get_attribute('href').split('/')[-1]\n",
    "#                 ids.append(id)\n",
    "#             except StaleElementReferenceException as e:\n",
    "#                 print('lost element reference', tweet)\n",
    "\n",
    "\n",
    "\n",
    "#     except NoSuchElementException:\n",
    "#         print('no tweets on this day')\n",
    "\n",
    "#     start = increment_day(start, 1)\n",
    "\n",
    "\n",
    "# try:\n",
    "#     with open(twitter_ids_filename) as f:\n",
    "#         all_ids = ids + json.load(f)\n",
    "#         data_to_write = list(set(all_ids))\n",
    "#         print('tweets found on this scrape: ', len(ids))\n",
    "#         print('total tweet count: ', len(data_to_write))\n",
    "# except FileNotFoundError:\n",
    "#     with open(twitter_ids_filename, 'w') as f:\n",
    "#         all_ids = ids\n",
    "#         data_to_write = list(set(all_ids))\n",
    "#         print('tweets found on this scrape: ', len(ids))\n",
    "#         print('total tweet count: ', len(data_to_write))\n",
    "\n",
    "# with open(twitter_ids_filename, 'w') as outfile:\n",
    "#     json.dump(data_to_write, outfile)\n",
    "\n",
    "# print('all done here')\n",
    "# #driver.close()\n",
    "\n",
    "\n"
   ]
  },
  {
   "cell_type": "code",
   "execution_count": null,
   "metadata": {},
   "outputs": [],
   "source": [
    "# import tweepy\n",
    "# import json\n",
    "# import math\n",
    "# import glob\n",
    "# import csv\n",
    "# import zipfile\n",
    "# import zlib\n",
    "# from tweepy import TweepError\n",
    "# from time import sleep\n",
    "\n",
    "# # CHANGE THIS TO THE USER YOU WANT\n",
    "# user = 'metoo'\n",
    "\n",
    "# with open('api_keys.json') as f:\n",
    "#     keys = json.load(f)\n",
    "\n",
    "# auth = tweepy.OAuthHandler(consumer_key,consumer_secret)\n",
    "# auth.set_access_token(access_token,access_token_secret)\n",
    "# auth.secure = True\n",
    "# api = tweepy.API(auth)\n",
    "\n",
    "# user = user.lower()\n",
    "# output_file = '{}.json'.format(user)\n",
    "# output_file_short = '{}_short.json'.format(user)\n",
    "# compression = zipfile.ZIP_DEFLATED\n",
    "\n",
    "# with open('all_ids.json') as f:\n",
    "#     ids = json.load(f)\n",
    "\n",
    "# print('total ids: {}'.format(len(ids)))\n",
    "\n",
    "# all_data = []\n",
    "# start = 0\n",
    "# end = 100\n",
    "# limit = len(ids)\n",
    "# i = math.ceil(limit / 100)\n",
    "\n",
    "# for go in range(i):\n",
    "#     print('currently getting {} - {}'.format(start, end))\n",
    "#     sleep(6)  # needed to prevent hitting API rate limit\n",
    "#     id_batch = ids[start:end]\n",
    "#     start += 100\n",
    "#     end += 100\n",
    "#     tweets = api.statuses_lookup(id_batch)\n",
    "#     for tweet in tweets:\n",
    "#         all_data.append(dict(tweet._json))\n",
    "\n",
    "# print('metadata collection complete')\n",
    "# print('creating master json file')\n",
    "# with open(output_file, 'w') as outfile:\n",
    "#     json.dump(all_data, outfile)\n",
    "\n",
    "# print('creating ziped master json file')\n",
    "# zf = zipfile.ZipFile('{}.zip'.format(user), mode='w')\n",
    "# zf.write(output_file, compress_type=compression)\n",
    "# zf.close()\n",
    "\n",
    "# results = []\n",
    "\n",
    "# def is_retweet(entry):\n",
    "#     return 'retweeted_status' in entry.keys()\n",
    "\n",
    "# def get_source(entry):\n",
    "#     if '<' in entry[\"source\"]:\n",
    "#         return entry[\"source\"].split('>')[1].split('<')[0]\n",
    "#     else:\n",
    "#         return entry[\"source\"]\n",
    "\n",
    "# with open(output_file) as json_data:\n",
    "#     data = json.load(json_data)\n",
    "#     for entry in data:\n",
    "#         t = {\n",
    "#             \"created_at\": entry[\"created_at\"],\n",
    "#             \"text\": entry[\"text\"],\n",
    "#             \"in_reply_to_screen_name\": entry[\"in_reply_to_screen_name\"],\n",
    "#             \"retweet_count\": entry[\"retweet_count\"],\n",
    "#             \"favorite_count\": entry[\"favorite_count\"],\n",
    "#             \"source\": get_source(entry),\n",
    "#             \"id_str\": entry[\"id_str\"],\n",
    "#             \"is_retweet\": is_retweet(entry)\n",
    "#         }\n",
    "#         results.append(t)\n",
    "\n",
    "# # print('creating minimized json master file')\n",
    "# # with open(output_file_short, 'w') as outfile:\n",
    "# #     json.dump(results, outfile)\n",
    "\n",
    "# with open(output_file_short) as master_file:\n",
    "#     data = json.load(master_file)\n",
    "#     fields = [\"favorite_count\", \"source\", \"text\", \"in_reply_to_screen_name\", \"is_retweet\", \"created_at\", \"retweet_count\", \"id_str\"]\n",
    "#     print('creating CSV version of minimized json master file')\n",
    "#     f = csv.writer(open('{}.csv'.format(user), 'w'))\n",
    "#     f.writerow(fields)\n",
    "#     for x in data:\n",
    "#         f.writerow([x[\"favorite_count\"], x[\"source\"], x[\"text\"], x[\"in_reply_to_screen_name\"], x[\"is_retweet\"], x[\"created_at\"], x[\"retweet_count\"], x[\"id_str\"]])\n"
   ]
  },
  {
   "cell_type": "code",
   "execution_count": null,
   "metadata": {
    "collapsed": true
   },
   "outputs": [],
   "source": []
  }
 ],
 "metadata": {
  "kernelspec": {
   "display_name": "Python 3",
   "language": "python",
   "name": "python3"
  },
  "language_info": {
   "codemirror_mode": {
    "name": "ipython",
    "version": 3
   },
   "file_extension": ".py",
   "mimetype": "text/x-python",
   "name": "python",
   "nbconvert_exporter": "python",
   "pygments_lexer": "ipython3",
   "version": "3.6.1"
  }
 },
 "nbformat": 4,
 "nbformat_minor": 2
}
