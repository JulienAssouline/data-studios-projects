{
 "cells": [
  {
   "cell_type": "code",
   "execution_count": 1,
   "metadata": {
    "collapsed": true
   },
   "outputs": [],
   "source": [
    "import requests as rq\n",
    "from bs4 import BeautifulSoup\n",
    "import pandas as pd\n",
    "import re"
   ]
  },
  {
   "cell_type": "code",
   "execution_count": 2,
   "metadata": {
    "collapsed": true
   },
   "outputs": [],
   "source": [
    "years = [1936, 1948, 1952, 1956, 1960, 1964, 1968, 1972, 1976, 1980, 1984, 1988, 1992, 1994, 1998, 2002, 2006, 2010, 2014, 2018]"
   ]
  },
  {
   "cell_type": "code",
   "execution_count": 3,
   "metadata": {
    "collapsed": true
   },
   "outputs": [],
   "source": [
    "years_df = pd.DataFrame(years)"
   ]
  },
  {
   "cell_type": "code",
   "execution_count": 4,
   "metadata": {
    "collapsed": true
   },
   "outputs": [],
   "source": [
    "years_df.columns = [\"Years\"]"
   ]
  },
  {
   "cell_type": "code",
   "execution_count": 5,
   "metadata": {
    "collapsed": true
   },
   "outputs": [],
   "source": [
    "years_df[\"Years\"] = years_df[\"Years\"].astype(str)"
   ]
  },
  {
   "cell_type": "code",
   "execution_count": null,
   "metadata": {
    "collapsed": true
   },
   "outputs": [],
   "source": []
  },
  {
   "cell_type": "code",
   "execution_count": 6,
   "metadata": {},
   "outputs": [],
   "source": [
    "urls = \"https://www.sports-reference.com/olympics/winter/\" + years_df[\"Years\"] + \"/ASK/mens-downhill.html\""
   ]
  },
  {
   "cell_type": "code",
   "execution_count": 7,
   "metadata": {
    "collapsed": true
   },
   "outputs": [],
   "source": [
    "pd.set_option('max_colwidth',100)"
   ]
  },
  {
   "cell_type": "code",
   "execution_count": 8,
   "metadata": {},
   "outputs": [
    {
     "data": {
      "text/plain": [
       "0     https://www.sports-reference.com/olympics/winter/1936/ASK/mens-downhill.html\n",
       "1     https://www.sports-reference.com/olympics/winter/1948/ASK/mens-downhill.html\n",
       "2     https://www.sports-reference.com/olympics/winter/1952/ASK/mens-downhill.html\n",
       "3     https://www.sports-reference.com/olympics/winter/1956/ASK/mens-downhill.html\n",
       "4     https://www.sports-reference.com/olympics/winter/1960/ASK/mens-downhill.html\n",
       "5     https://www.sports-reference.com/olympics/winter/1964/ASK/mens-downhill.html\n",
       "6     https://www.sports-reference.com/olympics/winter/1968/ASK/mens-downhill.html\n",
       "7     https://www.sports-reference.com/olympics/winter/1972/ASK/mens-downhill.html\n",
       "8     https://www.sports-reference.com/olympics/winter/1976/ASK/mens-downhill.html\n",
       "9     https://www.sports-reference.com/olympics/winter/1980/ASK/mens-downhill.html\n",
       "10    https://www.sports-reference.com/olympics/winter/1984/ASK/mens-downhill.html\n",
       "11    https://www.sports-reference.com/olympics/winter/1988/ASK/mens-downhill.html\n",
       "12    https://www.sports-reference.com/olympics/winter/1992/ASK/mens-downhill.html\n",
       "13    https://www.sports-reference.com/olympics/winter/1994/ASK/mens-downhill.html\n",
       "14    https://www.sports-reference.com/olympics/winter/1998/ASK/mens-downhill.html\n",
       "15    https://www.sports-reference.com/olympics/winter/2002/ASK/mens-downhill.html\n",
       "16    https://www.sports-reference.com/olympics/winter/2006/ASK/mens-downhill.html\n",
       "17    https://www.sports-reference.com/olympics/winter/2010/ASK/mens-downhill.html\n",
       "18    https://www.sports-reference.com/olympics/winter/2014/ASK/mens-downhill.html\n",
       "19    https://www.sports-reference.com/olympics/winter/2018/ASK/mens-downhill.html\n",
       "Name: Years, dtype: object"
      ]
     },
     "execution_count": 8,
     "metadata": {},
     "output_type": "execute_result"
    }
   ],
   "source": [
    "urls"
   ]
  },
  {
   "cell_type": "code",
   "execution_count": 16,
   "metadata": {
    "collapsed": true
   },
   "outputs": [],
   "source": [
    "from bs4 import BeautifulSoup\n",
    "url = \" https://www.sports-reference.com/olympics/winter/2014/ASK/mens-downhill.html\"\n",
    "response = rq.post(url)\n",
    "doc = BeautifulSoup(response.text, \"html.parser\")\n"
   ]
  },
  {
   "cell_type": "code",
   "execution_count": 50,
   "metadata": {},
   "outputs": [
    {
     "name": "stdout",
     "output_type": "stream",
     "text": [
      "[]\n"
     ]
    }
   ],
   "source": [
    "for i in doc.find_all(\"table\", {\"id\": \"final_standings\"}):\n",
    "        print(i.find_all(\"td\"))\n",
    "        \n"
   ]
  },
  {
   "cell_type": "code",
   "execution_count": null,
   "metadata": {
    "collapsed": true
   },
   "outputs": [],
   "source": []
  }
 ],
 "metadata": {
  "kernelspec": {
   "display_name": "Python 3",
   "language": "python",
   "name": "python3"
  },
  "language_info": {
   "codemirror_mode": {
    "name": "ipython",
    "version": 3
   },
   "file_extension": ".py",
   "mimetype": "text/x-python",
   "name": "python",
   "nbconvert_exporter": "python",
   "pygments_lexer": "ipython3",
   "version": "3.6.1"
  }
 },
 "nbformat": 4,
 "nbformat_minor": 2
}
