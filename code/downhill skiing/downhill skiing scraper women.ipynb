{
 "cells": [
  {
   "cell_type": "code",
   "execution_count": 1,
   "metadata": {
    "collapsed": true
   },
   "outputs": [],
   "source": [
    "import requests as rq\n",
    "from bs4 import BeautifulSoup\n",
    "import pandas as pd\n",
    "import re"
   ]
  },
  {
   "cell_type": "code",
   "execution_count": 2,
   "metadata": {
    "collapsed": true
   },
   "outputs": [],
   "source": [
    "years = [1936, 1948, 1952, 1956, 1960, 1964, 1968, 1972, 1976, 1980, 1984, 1988, 1992, 1994, 1998, 2002, 2006, 2010, 2014, 2018]"
   ]
  },
  {
   "cell_type": "code",
   "execution_count": 3,
   "metadata": {
    "collapsed": true
   },
   "outputs": [],
   "source": [
    "years_df = pd.DataFrame(years)\n",
    "years_df.columns = [\"Years\"]\n",
    "years_df[\"Years\"] = years_df[\"Years\"].astype(str)"
   ]
  },
  {
   "cell_type": "code",
   "execution_count": null,
   "metadata": {
    "collapsed": true
   },
   "outputs": [],
   "source": [
    "https://www.sports-reference.com/olympics/winter/1988/ASK/womens-downhill.html"
   ]
  },
  {
   "cell_type": "code",
   "execution_count": 4,
   "metadata": {
    "collapsed": true
   },
   "outputs": [],
   "source": [
    "urls_downhill = \"https://www.sports-reference.com/olympics/winter/\" + years_df[\"Years\"] + \"/ASK/womens-downhill.html\""
   ]
  },
  {
   "cell_type": "code",
   "execution_count": 6,
   "metadata": {
    "collapsed": true
   },
   "outputs": [],
   "source": [
    "pd.set_option('max_colwidth',100)"
   ]
  },
  {
   "cell_type": "code",
   "execution_count": 7,
   "metadata": {},
   "outputs": [
    {
     "data": {
      "text/plain": [
       "0     https://www.sports-reference.com/olympics/winter/1936/ASK/womens-downhill.html\n",
       "1     https://www.sports-reference.com/olympics/winter/1948/ASK/womens-downhill.html\n",
       "2     https://www.sports-reference.com/olympics/winter/1952/ASK/womens-downhill.html\n",
       "3     https://www.sports-reference.com/olympics/winter/1956/ASK/womens-downhill.html\n",
       "4     https://www.sports-reference.com/olympics/winter/1960/ASK/womens-downhill.html\n",
       "5     https://www.sports-reference.com/olympics/winter/1964/ASK/womens-downhill.html\n",
       "6     https://www.sports-reference.com/olympics/winter/1968/ASK/womens-downhill.html\n",
       "7     https://www.sports-reference.com/olympics/winter/1972/ASK/womens-downhill.html\n",
       "8     https://www.sports-reference.com/olympics/winter/1976/ASK/womens-downhill.html\n",
       "9     https://www.sports-reference.com/olympics/winter/1980/ASK/womens-downhill.html\n",
       "10    https://www.sports-reference.com/olympics/winter/1984/ASK/womens-downhill.html\n",
       "11    https://www.sports-reference.com/olympics/winter/1988/ASK/womens-downhill.html\n",
       "12    https://www.sports-reference.com/olympics/winter/1992/ASK/womens-downhill.html\n",
       "13    https://www.sports-reference.com/olympics/winter/1994/ASK/womens-downhill.html\n",
       "14    https://www.sports-reference.com/olympics/winter/1998/ASK/womens-downhill.html\n",
       "15    https://www.sports-reference.com/olympics/winter/2002/ASK/womens-downhill.html\n",
       "16    https://www.sports-reference.com/olympics/winter/2006/ASK/womens-downhill.html\n",
       "17    https://www.sports-reference.com/olympics/winter/2010/ASK/womens-downhill.html\n",
       "18    https://www.sports-reference.com/olympics/winter/2014/ASK/womens-downhill.html\n",
       "19    https://www.sports-reference.com/olympics/winter/2018/ASK/womens-downhill.html\n",
       "Name: Years, dtype: object"
      ]
     },
     "execution_count": 7,
     "metadata": {},
     "output_type": "execute_result"
    }
   ],
   "source": [
    "urls_downhill"
   ]
  },
  {
   "cell_type": "code",
   "execution_count": 8,
   "metadata": {
    "collapsed": true
   },
   "outputs": [],
   "source": [
    "list_downhill = []\n",
    "\n",
    "for i in urls_downhill:\n",
    "    response = rq.post(i)\n",
    "    doc = BeautifulSoup(response.text, \"html.parser\")\n",
    "    for n in doc.find_all(\"tr\")[4:]:\n",
    "        dictionary = {}\n",
    "        rank = n.find_all(\"td\")[0]\n",
    "        if rank:\n",
    "            dictionary[\"Rank\"] = rank.text.strip()\n",
    "        Athlete = n.find_all(\"td\")[1]\n",
    "        if Athlete:\n",
    "            dictionary[\"Athlete\"] = Athlete.text.strip()\n",
    "        Age = n.find_all(\"td\")[2]\n",
    "        if Age:\n",
    "            dictionary[\"Age\"] = Age.text.strip()\n",
    "        Country = n.find_all(\"td\")[3]\n",
    "        if Country:\n",
    "            dictionary[\"Country\"] = Country.text.strip()\n",
    "        NOC = n.find_all(\"td\")[4]\n",
    "        if NOC:\n",
    "            dictionary[\"NOC\"] = NOC.text.strip()\n",
    "        Medal = n.find_all(\"td\")[5]\n",
    "        if Medal:\n",
    "            dictionary[\"Medal\"] = Medal.text.strip()\n",
    "        Time = n.find_all(\"td\")[6]\n",
    "        if Time:\n",
    "            dictionary[\"Time\"] = Time.text.strip()\n",
    "        list_downhill.append(dictionary)\n"
   ]
  },
  {
   "cell_type": "code",
   "execution_count": 11,
   "metadata": {},
   "outputs": [],
   "source": [
    "df_downhill = pd.DataFrame(list_downhill)"
   ]
  },
  {
   "cell_type": "code",
   "execution_count": 13,
   "metadata": {},
   "outputs": [],
   "source": [
    "df_downhill[\"Rank\"] = df_downhill[\"Rank\"].str.replace(\"[A-Z]\", \"\")"
   ]
  },
  {
   "cell_type": "code",
   "execution_count": 14,
   "metadata": {},
   "outputs": [
    {
     "data": {
      "text/html": [
       "<div>\n",
       "<style>\n",
       "    .dataframe thead tr:only-child th {\n",
       "        text-align: right;\n",
       "    }\n",
       "\n",
       "    .dataframe thead th {\n",
       "        text-align: left;\n",
       "    }\n",
       "\n",
       "    .dataframe tbody tr th {\n",
       "        vertical-align: top;\n",
       "    }\n",
       "</style>\n",
       "<table border=\"1\" class=\"dataframe\">\n",
       "  <thead>\n",
       "    <tr style=\"text-align: right;\">\n",
       "      <th></th>\n",
       "      <th>Age</th>\n",
       "      <th>Athlete</th>\n",
       "      <th>Country</th>\n",
       "      <th>Medal</th>\n",
       "      <th>NOC</th>\n",
       "      <th>Rank</th>\n",
       "      <th>Time</th>\n",
       "    </tr>\n",
       "  </thead>\n",
       "  <tbody>\n",
       "    <tr>\n",
       "      <th>0</th>\n",
       "      <td>24</td>\n",
       "      <td>Hedy Schlunegger</td>\n",
       "      <td>Switzerland</td>\n",
       "      <td>Gold</td>\n",
       "      <td>SUI</td>\n",
       "      <td>1</td>\n",
       "      <td>2:28.3</td>\n",
       "    </tr>\n",
       "    <tr>\n",
       "      <th>1</th>\n",
       "      <td>20</td>\n",
       "      <td>Trude Jochum-Beiser</td>\n",
       "      <td>Austria</td>\n",
       "      <td>Silver</td>\n",
       "      <td>AUT</td>\n",
       "      <td>2</td>\n",
       "      <td>2:29.1</td>\n",
       "    </tr>\n",
       "    <tr>\n",
       "      <th>2</th>\n",
       "      <td>22</td>\n",
       "      <td>Resi Hammerer</td>\n",
       "      <td>Austria</td>\n",
       "      <td>Bronze</td>\n",
       "      <td>AUT</td>\n",
       "      <td>3</td>\n",
       "      <td>2:30.2</td>\n",
       "    </tr>\n",
       "    <tr>\n",
       "      <th>3</th>\n",
       "      <td>27</td>\n",
       "      <td>Celina Seghi</td>\n",
       "      <td>Italy</td>\n",
       "      <td></td>\n",
       "      <td>ITA</td>\n",
       "      <td>4</td>\n",
       "      <td>2:31.1</td>\n",
       "    </tr>\n",
       "    <tr>\n",
       "      <th>4</th>\n",
       "      <td>28</td>\n",
       "      <td>Lina Mittner</td>\n",
       "      <td>Switzerland</td>\n",
       "      <td></td>\n",
       "      <td>SUI</td>\n",
       "      <td>5</td>\n",
       "      <td>2:31.2</td>\n",
       "    </tr>\n",
       "  </tbody>\n",
       "</table>\n",
       "</div>"
      ],
      "text/plain": [
       "  Age              Athlete      Country   Medal  NOC Rank    Time\n",
       "0  24     Hedy Schlunegger  Switzerland    Gold  SUI    1  2:28.3\n",
       "1  20  Trude Jochum-Beiser      Austria  Silver  AUT    2  2:29.1\n",
       "2  22        Resi Hammerer      Austria  Bronze  AUT    3  2:30.2\n",
       "3  27         Celina Seghi        Italy          ITA    4  2:31.1\n",
       "4  28         Lina Mittner  Switzerland          SUI    5  2:31.2"
      ]
     },
     "execution_count": 14,
     "metadata": {},
     "output_type": "execute_result"
    }
   ],
   "source": [
    "df_downhill.head()"
   ]
  },
  {
   "cell_type": "code",
   "execution_count": 15,
   "metadata": {
    "collapsed": true
   },
   "outputs": [],
   "source": [
    "df_downhill.to_csv(\"df_downhill_women.csv\")"
   ]
  },
  {
   "cell_type": "code",
   "execution_count": null,
   "metadata": {
    "collapsed": true
   },
   "outputs": [],
   "source": []
  },
  {
   "cell_type": "code",
   "execution_count": 16,
   "metadata": {
    "collapsed": true
   },
   "outputs": [],
   "source": [
    "urls_super_g = \"https://www.sports-reference.com/olympics/winter/\" + years_df[\"Years\"] + \"/ASK/womens-super-g.html\""
   ]
  },
  {
   "cell_type": "code",
   "execution_count": 17,
   "metadata": {},
   "outputs": [
    {
     "data": {
      "text/plain": [
       "0     https://www.sports-reference.com/olympics/winter/1936/ASK/womens-super-g.html\n",
       "1     https://www.sports-reference.com/olympics/winter/1948/ASK/womens-super-g.html\n",
       "2     https://www.sports-reference.com/olympics/winter/1952/ASK/womens-super-g.html\n",
       "3     https://www.sports-reference.com/olympics/winter/1956/ASK/womens-super-g.html\n",
       "4     https://www.sports-reference.com/olympics/winter/1960/ASK/womens-super-g.html\n",
       "5     https://www.sports-reference.com/olympics/winter/1964/ASK/womens-super-g.html\n",
       "6     https://www.sports-reference.com/olympics/winter/1968/ASK/womens-super-g.html\n",
       "7     https://www.sports-reference.com/olympics/winter/1972/ASK/womens-super-g.html\n",
       "8     https://www.sports-reference.com/olympics/winter/1976/ASK/womens-super-g.html\n",
       "9     https://www.sports-reference.com/olympics/winter/1980/ASK/womens-super-g.html\n",
       "10    https://www.sports-reference.com/olympics/winter/1984/ASK/womens-super-g.html\n",
       "11    https://www.sports-reference.com/olympics/winter/1988/ASK/womens-super-g.html\n",
       "12    https://www.sports-reference.com/olympics/winter/1992/ASK/womens-super-g.html\n",
       "13    https://www.sports-reference.com/olympics/winter/1994/ASK/womens-super-g.html\n",
       "14    https://www.sports-reference.com/olympics/winter/1998/ASK/womens-super-g.html\n",
       "15    https://www.sports-reference.com/olympics/winter/2002/ASK/womens-super-g.html\n",
       "16    https://www.sports-reference.com/olympics/winter/2006/ASK/womens-super-g.html\n",
       "17    https://www.sports-reference.com/olympics/winter/2010/ASK/womens-super-g.html\n",
       "18    https://www.sports-reference.com/olympics/winter/2014/ASK/womens-super-g.html\n",
       "19    https://www.sports-reference.com/olympics/winter/2018/ASK/womens-super-g.html\n",
       "Name: Years, dtype: object"
      ]
     },
     "execution_count": 17,
     "metadata": {},
     "output_type": "execute_result"
    }
   ],
   "source": [
    "urls_super_g"
   ]
  },
  {
   "cell_type": "code",
   "execution_count": 18,
   "metadata": {
    "collapsed": true
   },
   "outputs": [],
   "source": [
    "list_super_g = []\n",
    "\n",
    "for i in urls_super_g:\n",
    "    response = rq.post(i)\n",
    "    doc = BeautifulSoup(response.text, \"html.parser\")\n",
    "    for n in doc.find_all(\"tr\")[4:]:\n",
    "        dictionary = {}\n",
    "        rank = n.find_all(\"td\")[0]\n",
    "        if rank:\n",
    "            dictionary[\"Rank\"] = rank.text.strip()\n",
    "        Athlete = n.find_all(\"td\")[1]\n",
    "        if Athlete:\n",
    "            dictionary[\"Athlete\"] = Athlete.text.strip()\n",
    "        Age = n.find_all(\"td\")[2]\n",
    "        if Age:\n",
    "            dictionary[\"Age\"] = Age.text.strip()\n",
    "        Country = n.find_all(\"td\")[3]\n",
    "        if Country:\n",
    "            dictionary[\"Country\"] = Country.text.strip()\n",
    "        NOC = n.find_all(\"td\")[4]\n",
    "        if NOC:\n",
    "            dictionary[\"NOC\"] = NOC.text.strip()\n",
    "        Medal = n.find_all(\"td\")[5]\n",
    "        if Medal:\n",
    "            dictionary[\"Medal\"] = Medal.text.strip()\n",
    "        Time = n.find_all(\"td\")[6]\n",
    "        if Time:\n",
    "            dictionary[\"Time\"] = Time.text.strip()\n",
    "        list_super_g.append(dictionary)\n"
   ]
  },
  {
   "cell_type": "code",
   "execution_count": 19,
   "metadata": {
    "collapsed": true
   },
   "outputs": [],
   "source": [
    "df_super_g_women = pd.DataFrame(list_super_g)"
   ]
  },
  {
   "cell_type": "code",
   "execution_count": 20,
   "metadata": {
    "collapsed": true
   },
   "outputs": [],
   "source": [
    "df_super_g_women[\"Rank\"] = df_super_g_women[\"Rank\"].str.replace(\"[A-Z]\", \"\")"
   ]
  },
  {
   "cell_type": "code",
   "execution_count": 21,
   "metadata": {},
   "outputs": [
    {
     "data": {
      "text/html": [
       "<div>\n",
       "<style>\n",
       "    .dataframe thead tr:only-child th {\n",
       "        text-align: right;\n",
       "    }\n",
       "\n",
       "    .dataframe thead th {\n",
       "        text-align: left;\n",
       "    }\n",
       "\n",
       "    .dataframe tbody tr th {\n",
       "        vertical-align: top;\n",
       "    }\n",
       "</style>\n",
       "<table border=\"1\" class=\"dataframe\">\n",
       "  <thead>\n",
       "    <tr style=\"text-align: right;\">\n",
       "      <th></th>\n",
       "      <th>Age</th>\n",
       "      <th>Athlete</th>\n",
       "      <th>Country</th>\n",
       "      <th>Medal</th>\n",
       "      <th>NOC</th>\n",
       "      <th>Rank</th>\n",
       "      <th>Time</th>\n",
       "    </tr>\n",
       "  </thead>\n",
       "  <tbody>\n",
       "    <tr>\n",
       "      <th>0</th>\n",
       "      <td>23</td>\n",
       "      <td>Sigrid Wolf</td>\n",
       "      <td>Austria</td>\n",
       "      <td>Gold</td>\n",
       "      <td>AUT</td>\n",
       "      <td>1</td>\n",
       "      <td>1:19.03</td>\n",
       "    </tr>\n",
       "    <tr>\n",
       "      <th>1</th>\n",
       "      <td>21</td>\n",
       "      <td>Michela Figini</td>\n",
       "      <td>Switzerland</td>\n",
       "      <td>Silver</td>\n",
       "      <td>SUI</td>\n",
       "      <td>2</td>\n",
       "      <td>1:20.03</td>\n",
       "    </tr>\n",
       "    <tr>\n",
       "      <th>2</th>\n",
       "      <td>21</td>\n",
       "      <td>Karen Percy</td>\n",
       "      <td>Canada</td>\n",
       "      <td>Bronze</td>\n",
       "      <td>CAN</td>\n",
       "      <td>3</td>\n",
       "      <td>1:20.29</td>\n",
       "    </tr>\n",
       "    <tr>\n",
       "      <th>3</th>\n",
       "      <td>26</td>\n",
       "      <td>Regine MÃ¶senlechner</td>\n",
       "      <td>West Germany</td>\n",
       "      <td></td>\n",
       "      <td>FRG</td>\n",
       "      <td>4</td>\n",
       "      <td>1:20.33</td>\n",
       "    </tr>\n",
       "    <tr>\n",
       "      <th>4</th>\n",
       "      <td>21</td>\n",
       "      <td>Anita Wachter</td>\n",
       "      <td>Austria</td>\n",
       "      <td></td>\n",
       "      <td>AUT</td>\n",
       "      <td>5</td>\n",
       "      <td>1:20.36</td>\n",
       "    </tr>\n",
       "  </tbody>\n",
       "</table>\n",
       "</div>"
      ],
      "text/plain": [
       "  Age               Athlete       Country   Medal  NOC Rank     Time\n",
       "0  23           Sigrid Wolf       Austria    Gold  AUT    1  1:19.03\n",
       "1  21        Michela Figini   Switzerland  Silver  SUI    2  1:20.03\n",
       "2  21           Karen Percy        Canada  Bronze  CAN    3  1:20.29\n",
       "3  26  Regine MÃ¶senlechner  West Germany          FRG    4  1:20.33\n",
       "4  21         Anita Wachter       Austria          AUT    5  1:20.36"
      ]
     },
     "execution_count": 21,
     "metadata": {},
     "output_type": "execute_result"
    }
   ],
   "source": [
    "df_super_g_women.head()"
   ]
  },
  {
   "cell_type": "code",
   "execution_count": 22,
   "metadata": {
    "collapsed": true
   },
   "outputs": [],
   "source": [
    "df_super_g_women.to_csv(\"df_super_g_women.csv\")"
   ]
  },
  {
   "cell_type": "code",
   "execution_count": null,
   "metadata": {
    "collapsed": true
   },
   "outputs": [],
   "source": []
  },
  {
   "cell_type": "code",
   "execution_count": 23,
   "metadata": {
    "collapsed": true
   },
   "outputs": [],
   "source": [
    "urls_giant_slalom = \"https://www.sports-reference.com/olympics/winter/\" + years_df[\"Years\"] + \"/ASK/womens-giant-slalom.html\""
   ]
  },
  {
   "cell_type": "code",
   "execution_count": 24,
   "metadata": {},
   "outputs": [
    {
     "data": {
      "text/plain": [
       "0     https://www.sports-reference.com/olympics/winter/1936/ASK/womens-giant-slalom.html\n",
       "1     https://www.sports-reference.com/olympics/winter/1948/ASK/womens-giant-slalom.html\n",
       "2     https://www.sports-reference.com/olympics/winter/1952/ASK/womens-giant-slalom.html\n",
       "3     https://www.sports-reference.com/olympics/winter/1956/ASK/womens-giant-slalom.html\n",
       "4     https://www.sports-reference.com/olympics/winter/1960/ASK/womens-giant-slalom.html\n",
       "5     https://www.sports-reference.com/olympics/winter/1964/ASK/womens-giant-slalom.html\n",
       "6     https://www.sports-reference.com/olympics/winter/1968/ASK/womens-giant-slalom.html\n",
       "7     https://www.sports-reference.com/olympics/winter/1972/ASK/womens-giant-slalom.html\n",
       "8     https://www.sports-reference.com/olympics/winter/1976/ASK/womens-giant-slalom.html\n",
       "9     https://www.sports-reference.com/olympics/winter/1980/ASK/womens-giant-slalom.html\n",
       "10    https://www.sports-reference.com/olympics/winter/1984/ASK/womens-giant-slalom.html\n",
       "11    https://www.sports-reference.com/olympics/winter/1988/ASK/womens-giant-slalom.html\n",
       "12    https://www.sports-reference.com/olympics/winter/1992/ASK/womens-giant-slalom.html\n",
       "13    https://www.sports-reference.com/olympics/winter/1994/ASK/womens-giant-slalom.html\n",
       "14    https://www.sports-reference.com/olympics/winter/1998/ASK/womens-giant-slalom.html\n",
       "15    https://www.sports-reference.com/olympics/winter/2002/ASK/womens-giant-slalom.html\n",
       "16    https://www.sports-reference.com/olympics/winter/2006/ASK/womens-giant-slalom.html\n",
       "17    https://www.sports-reference.com/olympics/winter/2010/ASK/womens-giant-slalom.html\n",
       "18    https://www.sports-reference.com/olympics/winter/2014/ASK/womens-giant-slalom.html\n",
       "19    https://www.sports-reference.com/olympics/winter/2018/ASK/womens-giant-slalom.html\n",
       "Name: Years, dtype: object"
      ]
     },
     "execution_count": 24,
     "metadata": {},
     "output_type": "execute_result"
    }
   ],
   "source": [
    "urls_giant_slalom"
   ]
  },
  {
   "cell_type": "code",
   "execution_count": 25,
   "metadata": {
    "collapsed": true
   },
   "outputs": [],
   "source": [
    "list_giant_slalom = []\n",
    "\n",
    "for i in urls_giant_slalom:\n",
    "    response = rq.post(i)\n",
    "    doc = BeautifulSoup(response.text, \"html.parser\")\n",
    "    for n in doc.find_all(\"tr\")[4:]:\n",
    "        dictionary = {}\n",
    "        rank = n.find_all(\"td\")[0]\n",
    "        if rank:\n",
    "            dictionary[\"Rank\"] = rank.text.strip()\n",
    "        Athlete = n.find_all(\"td\")[1]\n",
    "        if Athlete:\n",
    "            dictionary[\"Athlete\"] = Athlete.text.strip()\n",
    "        Age = n.find_all(\"td\")[2]\n",
    "        if Age:\n",
    "            dictionary[\"Age\"] = Age.text.strip()\n",
    "        Country = n.find_all(\"td\")[3]\n",
    "        if Country:\n",
    "            dictionary[\"Country\"] = Country.text.strip()\n",
    "        NOC = n.find_all(\"td\")[4]\n",
    "        if NOC:\n",
    "            dictionary[\"NOC\"] = NOC.text.strip()\n",
    "        Medal = n.find_all(\"td\")[5]\n",
    "        if Medal:\n",
    "            dictionary[\"Medal\"] = Medal.text.strip()\n",
    "        Time = n.find_all(\"td\")[6]\n",
    "        if Time:\n",
    "            dictionary[\"Time\"] = Time.text.strip()\n",
    "        list_giant_slalom.append(dictionary)\n"
   ]
  },
  {
   "cell_type": "code",
   "execution_count": 26,
   "metadata": {
    "collapsed": true
   },
   "outputs": [],
   "source": [
    "df_giant_slalom = pd.DataFrame(list_giant_slalom)"
   ]
  },
  {
   "cell_type": "code",
   "execution_count": 28,
   "metadata": {
    "collapsed": true
   },
   "outputs": [],
   "source": [
    "df_giant_slalom[\"Rank\"] = df_giant_slalom[\"Rank\"].str.replace(\"[A-Z]\", \"\")"
   ]
  },
  {
   "cell_type": "code",
   "execution_count": 29,
   "metadata": {},
   "outputs": [
    {
     "data": {
      "text/html": [
       "<div>\n",
       "<style>\n",
       "    .dataframe thead tr:only-child th {\n",
       "        text-align: right;\n",
       "    }\n",
       "\n",
       "    .dataframe thead th {\n",
       "        text-align: left;\n",
       "    }\n",
       "\n",
       "    .dataframe tbody tr th {\n",
       "        vertical-align: top;\n",
       "    }\n",
       "</style>\n",
       "<table border=\"1\" class=\"dataframe\">\n",
       "  <thead>\n",
       "    <tr style=\"text-align: right;\">\n",
       "      <th></th>\n",
       "      <th>Age</th>\n",
       "      <th>Athlete</th>\n",
       "      <th>Country</th>\n",
       "      <th>Medal</th>\n",
       "      <th>NOC</th>\n",
       "      <th>Rank</th>\n",
       "      <th>Time</th>\n",
       "    </tr>\n",
       "  </thead>\n",
       "  <tbody>\n",
       "    <tr>\n",
       "      <th>0</th>\n",
       "      <td>19</td>\n",
       "      <td>Andrea Mead-Lawrence</td>\n",
       "      <td>United States</td>\n",
       "      <td>Gold</td>\n",
       "      <td>USA</td>\n",
       "      <td>1</td>\n",
       "      <td>2:06.8</td>\n",
       "    </tr>\n",
       "    <tr>\n",
       "      <th>1</th>\n",
       "      <td>23</td>\n",
       "      <td>Dagmar Rom</td>\n",
       "      <td>Austria</td>\n",
       "      <td>Silver</td>\n",
       "      <td>AUT</td>\n",
       "      <td>2</td>\n",
       "      <td>2:09.0</td>\n",
       "    </tr>\n",
       "    <tr>\n",
       "      <th>2</th>\n",
       "      <td>27</td>\n",
       "      <td>Mirl Buchner</td>\n",
       "      <td>Germany</td>\n",
       "      <td>Bronze</td>\n",
       "      <td>GER</td>\n",
       "      <td>3</td>\n",
       "      <td>2:10.0</td>\n",
       "    </tr>\n",
       "    <tr>\n",
       "      <th>3</th>\n",
       "      <td>26</td>\n",
       "      <td>Trude Klecker</td>\n",
       "      <td>Austria</td>\n",
       "      <td></td>\n",
       "      <td>AUT</td>\n",
       "      <td>4</td>\n",
       "      <td>2:11.4</td>\n",
       "    </tr>\n",
       "    <tr>\n",
       "      <th>4</th>\n",
       "      <td>21</td>\n",
       "      <td>Katy Rodolph</td>\n",
       "      <td>United States</td>\n",
       "      <td></td>\n",
       "      <td>USA</td>\n",
       "      <td>5</td>\n",
       "      <td>2:11.7</td>\n",
       "    </tr>\n",
       "  </tbody>\n",
       "</table>\n",
       "</div>"
      ],
      "text/plain": [
       "  Age               Athlete        Country   Medal  NOC Rank    Time\n",
       "0  19  Andrea Mead-Lawrence  United States    Gold  USA    1  2:06.8\n",
       "1  23            Dagmar Rom        Austria  Silver  AUT    2  2:09.0\n",
       "2  27          Mirl Buchner        Germany  Bronze  GER    3  2:10.0\n",
       "3  26         Trude Klecker        Austria          AUT    4  2:11.4\n",
       "4  21          Katy Rodolph  United States          USA    5  2:11.7"
      ]
     },
     "execution_count": 29,
     "metadata": {},
     "output_type": "execute_result"
    }
   ],
   "source": [
    "df_giant_slalom.head()"
   ]
  },
  {
   "cell_type": "code",
   "execution_count": 30,
   "metadata": {
    "collapsed": true
   },
   "outputs": [],
   "source": [
    "df_giant_slalom.to_csv(\"df_giant_slalom_women.csv\")"
   ]
  },
  {
   "cell_type": "code",
   "execution_count": null,
   "metadata": {
    "collapsed": true
   },
   "outputs": [],
   "source": []
  },
  {
   "cell_type": "code",
   "execution_count": 31,
   "metadata": {
    "collapsed": true
   },
   "outputs": [],
   "source": [
    "urls_slalom = \"https://www.sports-reference.com/olympics/winter/\" + years_df[\"Years\"] + \"/ASK/womens-slalom.html\""
   ]
  },
  {
   "cell_type": "code",
   "execution_count": 32,
   "metadata": {},
   "outputs": [
    {
     "data": {
      "text/plain": [
       "0     https://www.sports-reference.com/olympics/winter/1936/ASK/womens-slalom.html\n",
       "1     https://www.sports-reference.com/olympics/winter/1948/ASK/womens-slalom.html\n",
       "2     https://www.sports-reference.com/olympics/winter/1952/ASK/womens-slalom.html\n",
       "3     https://www.sports-reference.com/olympics/winter/1956/ASK/womens-slalom.html\n",
       "4     https://www.sports-reference.com/olympics/winter/1960/ASK/womens-slalom.html\n",
       "5     https://www.sports-reference.com/olympics/winter/1964/ASK/womens-slalom.html\n",
       "6     https://www.sports-reference.com/olympics/winter/1968/ASK/womens-slalom.html\n",
       "7     https://www.sports-reference.com/olympics/winter/1972/ASK/womens-slalom.html\n",
       "8     https://www.sports-reference.com/olympics/winter/1976/ASK/womens-slalom.html\n",
       "9     https://www.sports-reference.com/olympics/winter/1980/ASK/womens-slalom.html\n",
       "10    https://www.sports-reference.com/olympics/winter/1984/ASK/womens-slalom.html\n",
       "11    https://www.sports-reference.com/olympics/winter/1988/ASK/womens-slalom.html\n",
       "12    https://www.sports-reference.com/olympics/winter/1992/ASK/womens-slalom.html\n",
       "13    https://www.sports-reference.com/olympics/winter/1994/ASK/womens-slalom.html\n",
       "14    https://www.sports-reference.com/olympics/winter/1998/ASK/womens-slalom.html\n",
       "15    https://www.sports-reference.com/olympics/winter/2002/ASK/womens-slalom.html\n",
       "16    https://www.sports-reference.com/olympics/winter/2006/ASK/womens-slalom.html\n",
       "17    https://www.sports-reference.com/olympics/winter/2010/ASK/womens-slalom.html\n",
       "18    https://www.sports-reference.com/olympics/winter/2014/ASK/womens-slalom.html\n",
       "19    https://www.sports-reference.com/olympics/winter/2018/ASK/womens-slalom.html\n",
       "Name: Years, dtype: object"
      ]
     },
     "execution_count": 32,
     "metadata": {},
     "output_type": "execute_result"
    }
   ],
   "source": [
    "urls_slalom"
   ]
  },
  {
   "cell_type": "code",
   "execution_count": 33,
   "metadata": {
    "collapsed": true
   },
   "outputs": [],
   "source": [
    "list_slalom = []\n",
    "\n",
    "for i in urls_slalom:\n",
    "    response = rq.post(i)\n",
    "    doc = BeautifulSoup(response.text, \"html.parser\")\n",
    "    for n in doc.find_all(\"tr\")[4:]:\n",
    "        dictionary = {}\n",
    "        rank = n.find_all(\"td\")[0]\n",
    "        if rank:\n",
    "            dictionary[\"Rank\"] = rank.text.strip()\n",
    "        Athlete = n.find_all(\"td\")[1]\n",
    "        if Athlete:\n",
    "            dictionary[\"Athlete\"] = Athlete.text.strip()\n",
    "        Age = n.find_all(\"td\")[2]\n",
    "        if Age:\n",
    "            dictionary[\"Age\"] = Age.text.strip()\n",
    "        Country = n.find_all(\"td\")[3]\n",
    "        if Country:\n",
    "            dictionary[\"Country\"] = Country.text.strip()\n",
    "        NOC = n.find_all(\"td\")[4]\n",
    "        if NOC:\n",
    "            dictionary[\"NOC\"] = NOC.text.strip()\n",
    "        Medal = n.find_all(\"td\")[5]\n",
    "        if Medal:\n",
    "            dictionary[\"Medal\"] = Medal.text.strip()\n",
    "        Time = n.find_all(\"td\")[6]\n",
    "        if Time:\n",
    "            dictionary[\"Time\"] = Time.text.strip()\n",
    "        list_slalom.append(dictionary)\n"
   ]
  },
  {
   "cell_type": "code",
   "execution_count": 34,
   "metadata": {
    "collapsed": true
   },
   "outputs": [],
   "source": [
    "df_slalom_women = pd.DataFrame(list_slalom)"
   ]
  },
  {
   "cell_type": "code",
   "execution_count": 35,
   "metadata": {
    "collapsed": true
   },
   "outputs": [],
   "source": [
    "df_slalom_women[\"Rank\"] = df_slalom_women[\"Rank\"].str.replace(\"[A-Z]\", \"\")"
   ]
  },
  {
   "cell_type": "code",
   "execution_count": 36,
   "metadata": {},
   "outputs": [
    {
     "data": {
      "text/html": [
       "<div>\n",
       "<style>\n",
       "    .dataframe thead tr:only-child th {\n",
       "        text-align: right;\n",
       "    }\n",
       "\n",
       "    .dataframe thead th {\n",
       "        text-align: left;\n",
       "    }\n",
       "\n",
       "    .dataframe tbody tr th {\n",
       "        vertical-align: top;\n",
       "    }\n",
       "</style>\n",
       "<table border=\"1\" class=\"dataframe\">\n",
       "  <thead>\n",
       "    <tr style=\"text-align: right;\">\n",
       "      <th></th>\n",
       "      <th>Age</th>\n",
       "      <th>Athlete</th>\n",
       "      <th>Country</th>\n",
       "      <th>Medal</th>\n",
       "      <th>NOC</th>\n",
       "      <th>Rank</th>\n",
       "      <th>Time</th>\n",
       "    </tr>\n",
       "  </thead>\n",
       "  <tbody>\n",
       "    <tr>\n",
       "      <th>0</th>\n",
       "      <td>28</td>\n",
       "      <td>Gretchen Fraser</td>\n",
       "      <td>United States</td>\n",
       "      <td>Gold</td>\n",
       "      <td>USA</td>\n",
       "      <td>1</td>\n",
       "      <td>1:57.2</td>\n",
       "    </tr>\n",
       "    <tr>\n",
       "      <th>1</th>\n",
       "      <td>27</td>\n",
       "      <td>Antoinette Meyer</td>\n",
       "      <td>Switzerland</td>\n",
       "      <td>Silver</td>\n",
       "      <td>SUI</td>\n",
       "      <td>2</td>\n",
       "      <td>1:57.7</td>\n",
       "    </tr>\n",
       "    <tr>\n",
       "      <th>2</th>\n",
       "      <td>23</td>\n",
       "      <td>Erika Mahringer</td>\n",
       "      <td>Austria</td>\n",
       "      <td>Bronze</td>\n",
       "      <td>AUT</td>\n",
       "      <td>3</td>\n",
       "      <td>1:58.0</td>\n",
       "    </tr>\n",
       "    <tr>\n",
       "      <th>3</th>\n",
       "      <td>27</td>\n",
       "      <td>Georgette Miller-ThiolliÃ¨re</td>\n",
       "      <td>France</td>\n",
       "      <td></td>\n",
       "      <td>FRA</td>\n",
       "      <td>4</td>\n",
       "      <td>1:58.8</td>\n",
       "    </tr>\n",
       "    <tr>\n",
       "      <th>4</th>\n",
       "      <td>21</td>\n",
       "      <td>RenÃ©e Clerc</td>\n",
       "      <td>Switzerland</td>\n",
       "      <td></td>\n",
       "      <td>SUI</td>\n",
       "      <td>5</td>\n",
       "      <td>2:05.8</td>\n",
       "    </tr>\n",
       "  </tbody>\n",
       "</table>\n",
       "</div>"
      ],
      "text/plain": [
       "  Age                       Athlete        Country   Medal  NOC Rank    Time\n",
       "0  28               Gretchen Fraser  United States    Gold  USA    1  1:57.2\n",
       "1  27              Antoinette Meyer    Switzerland  Silver  SUI    2  1:57.7\n",
       "2  23               Erika Mahringer        Austria  Bronze  AUT    3  1:58.0\n",
       "3  27  Georgette Miller-ThiolliÃ¨re         France          FRA    4  1:58.8\n",
       "4  21                  RenÃ©e Clerc    Switzerland          SUI    5  2:05.8"
      ]
     },
     "execution_count": 36,
     "metadata": {},
     "output_type": "execute_result"
    }
   ],
   "source": [
    "df_slalom_women.head()"
   ]
  },
  {
   "cell_type": "code",
   "execution_count": 37,
   "metadata": {
    "collapsed": true
   },
   "outputs": [],
   "source": [
    "df_slalom_women.to_csv(\"df_slalom_women.csv\")"
   ]
  },
  {
   "cell_type": "code",
   "execution_count": null,
   "metadata": {
    "collapsed": true
   },
   "outputs": [],
   "source": []
  },
  {
   "cell_type": "code",
   "execution_count": 38,
   "metadata": {
    "collapsed": true
   },
   "outputs": [],
   "source": [
    "urls_combine = \"https://www.sports-reference.com/olympics/winter/\" + years_df[\"Years\"] + \"/ASK/womens-combined.html\""
   ]
  },
  {
   "cell_type": "code",
   "execution_count": 39,
   "metadata": {},
   "outputs": [
    {
     "data": {
      "text/plain": [
       "0     https://www.sports-reference.com/olympics/winter/1936/ASK/womens-combined.html\n",
       "1     https://www.sports-reference.com/olympics/winter/1948/ASK/womens-combined.html\n",
       "2     https://www.sports-reference.com/olympics/winter/1952/ASK/womens-combined.html\n",
       "3     https://www.sports-reference.com/olympics/winter/1956/ASK/womens-combined.html\n",
       "4     https://www.sports-reference.com/olympics/winter/1960/ASK/womens-combined.html\n",
       "5     https://www.sports-reference.com/olympics/winter/1964/ASK/womens-combined.html\n",
       "6     https://www.sports-reference.com/olympics/winter/1968/ASK/womens-combined.html\n",
       "7     https://www.sports-reference.com/olympics/winter/1972/ASK/womens-combined.html\n",
       "8     https://www.sports-reference.com/olympics/winter/1976/ASK/womens-combined.html\n",
       "9     https://www.sports-reference.com/olympics/winter/1980/ASK/womens-combined.html\n",
       "10    https://www.sports-reference.com/olympics/winter/1984/ASK/womens-combined.html\n",
       "11    https://www.sports-reference.com/olympics/winter/1988/ASK/womens-combined.html\n",
       "12    https://www.sports-reference.com/olympics/winter/1992/ASK/womens-combined.html\n",
       "13    https://www.sports-reference.com/olympics/winter/1994/ASK/womens-combined.html\n",
       "14    https://www.sports-reference.com/olympics/winter/1998/ASK/womens-combined.html\n",
       "15    https://www.sports-reference.com/olympics/winter/2002/ASK/womens-combined.html\n",
       "16    https://www.sports-reference.com/olympics/winter/2006/ASK/womens-combined.html\n",
       "17    https://www.sports-reference.com/olympics/winter/2010/ASK/womens-combined.html\n",
       "18    https://www.sports-reference.com/olympics/winter/2014/ASK/womens-combined.html\n",
       "19    https://www.sports-reference.com/olympics/winter/2018/ASK/womens-combined.html\n",
       "Name: Years, dtype: object"
      ]
     },
     "execution_count": 39,
     "metadata": {},
     "output_type": "execute_result"
    }
   ],
   "source": [
    "urls_combine"
   ]
  },
  {
   "cell_type": "code",
   "execution_count": 40,
   "metadata": {
    "collapsed": true
   },
   "outputs": [],
   "source": [
    "list_combine = []\n",
    "\n",
    "for i in urls_combine:\n",
    "    response = rq.post(i)\n",
    "    doc = BeautifulSoup(response.text, \"html.parser\")\n",
    "    for n in doc.find_all(\"tr\")[4:]:\n",
    "        dictionary = {}\n",
    "        rank = n.find_all(\"td\")[0]\n",
    "        if rank:\n",
    "            dictionary[\"Rank\"] = rank.text.strip()\n",
    "        Athlete = n.find_all(\"td\")[1]\n",
    "        if Athlete:\n",
    "            dictionary[\"Athlete\"] = Athlete.text.strip()\n",
    "        Age = n.find_all(\"td\")[2]\n",
    "        if Age:\n",
    "            dictionary[\"Age\"] = Age.text.strip()\n",
    "        Country = n.find_all(\"td\")[3]\n",
    "        if Country:\n",
    "            dictionary[\"Country\"] = Country.text.strip()\n",
    "        NOC = n.find_all(\"td\")[4]\n",
    "        if NOC:\n",
    "            dictionary[\"NOC\"] = NOC.text.strip()\n",
    "        Medal = n.find_all(\"td\")[5]\n",
    "        if Medal:\n",
    "            dictionary[\"Medal\"] = Medal.text.strip()\n",
    "        Time = n.find_all(\"td\")[6]\n",
    "        if Time:\n",
    "            dictionary[\"Time\"] = Time.text.strip()\n",
    "        list_combine.append(dictionary)\n"
   ]
  },
  {
   "cell_type": "code",
   "execution_count": 41,
   "metadata": {
    "collapsed": true
   },
   "outputs": [],
   "source": [
    "df_combine_women = pd.DataFrame(list_combine)"
   ]
  },
  {
   "cell_type": "code",
   "execution_count": 42,
   "metadata": {
    "collapsed": true
   },
   "outputs": [],
   "source": [
    "df_combine_women[\"Rank\"] = df_combine_women[\"Rank\"].str.replace(\"[A-Z]\", \"\")"
   ]
  },
  {
   "cell_type": "code",
   "execution_count": 44,
   "metadata": {},
   "outputs": [],
   "source": [
    "df_combine_women.to_csv(\"df_combine_women.csv\")"
   ]
  },
  {
   "cell_type": "code",
   "execution_count": 45,
   "metadata": {},
   "outputs": [
    {
     "data": {
      "text/html": [
       "<div>\n",
       "<style>\n",
       "    .dataframe thead tr:only-child th {\n",
       "        text-align: right;\n",
       "    }\n",
       "\n",
       "    .dataframe thead th {\n",
       "        text-align: left;\n",
       "    }\n",
       "\n",
       "    .dataframe tbody tr th {\n",
       "        vertical-align: top;\n",
       "    }\n",
       "</style>\n",
       "<table border=\"1\" class=\"dataframe\">\n",
       "  <thead>\n",
       "    <tr style=\"text-align: right;\">\n",
       "      <th></th>\n",
       "      <th>Age</th>\n",
       "      <th>Athlete</th>\n",
       "      <th>Country</th>\n",
       "      <th>Medal</th>\n",
       "      <th>NOC</th>\n",
       "      <th>Rank</th>\n",
       "      <th>Time</th>\n",
       "    </tr>\n",
       "  </thead>\n",
       "  <tbody>\n",
       "    <tr>\n",
       "      <th>0</th>\n",
       "      <td>21</td>\n",
       "      <td>Christl Cranz</td>\n",
       "      <td>Germany</td>\n",
       "      <td>Gold</td>\n",
       "      <td>GER</td>\n",
       "      <td>1</td>\n",
       "      <td>97.06</td>\n",
       "    </tr>\n",
       "    <tr>\n",
       "      <th>1</th>\n",
       "      <td>18</td>\n",
       "      <td>KÃ¤the Grasegger</td>\n",
       "      <td>Germany</td>\n",
       "      <td>Silver</td>\n",
       "      <td>GER</td>\n",
       "      <td>2</td>\n",
       "      <td>95.26</td>\n",
       "    </tr>\n",
       "    <tr>\n",
       "      <th>2</th>\n",
       "      <td>16</td>\n",
       "      <td>Laila Schou Nilsen</td>\n",
       "      <td>Norway</td>\n",
       "      <td>Bronze</td>\n",
       "      <td>NOR</td>\n",
       "      <td>3</td>\n",
       "      <td>93.48</td>\n",
       "    </tr>\n",
       "    <tr>\n",
       "      <th>3</th>\n",
       "      <td>18</td>\n",
       "      <td>Erna Steuri</td>\n",
       "      <td>Switzerland</td>\n",
       "      <td></td>\n",
       "      <td>SUI</td>\n",
       "      <td>4</td>\n",
       "      <td>92.36</td>\n",
       "    </tr>\n",
       "    <tr>\n",
       "      <th>4</th>\n",
       "      <td>29</td>\n",
       "      <td>Hadi Pfeifer</td>\n",
       "      <td>Germany</td>\n",
       "      <td></td>\n",
       "      <td>GER</td>\n",
       "      <td>5</td>\n",
       "      <td>91.85</td>\n",
       "    </tr>\n",
       "  </tbody>\n",
       "</table>\n",
       "</div>"
      ],
      "text/plain": [
       "  Age             Athlete      Country   Medal  NOC Rank   Time\n",
       "0  21       Christl Cranz      Germany    Gold  GER    1  97.06\n",
       "1  18    KÃ¤the Grasegger      Germany  Silver  GER    2  95.26\n",
       "2  16  Laila Schou Nilsen       Norway  Bronze  NOR    3  93.48\n",
       "3  18         Erna Steuri  Switzerland          SUI    4  92.36\n",
       "4  29        Hadi Pfeifer      Germany          GER    5  91.85"
      ]
     },
     "execution_count": 45,
     "metadata": {},
     "output_type": "execute_result"
    }
   ],
   "source": [
    "df_combine_women.head()"
   ]
  },
  {
   "cell_type": "code",
   "execution_count": null,
   "metadata": {
    "collapsed": true
   },
   "outputs": [],
   "source": []
  },
  {
   "cell_type": "code",
   "execution_count": null,
   "metadata": {
    "collapsed": true
   },
   "outputs": [],
   "source": []
  },
  {
   "cell_type": "code",
   "execution_count": 46,
   "metadata": {
    "collapsed": true
   },
   "outputs": [],
   "source": [
    "df_downhill_women_years = pd.read_csv(\"df_downhill_women - df_downhill_women.csv\")"
   ]
  },
  {
   "cell_type": "code",
   "execution_count": 47,
   "metadata": {},
   "outputs": [
    {
     "data": {
      "text/html": [
       "<div>\n",
       "<style>\n",
       "    .dataframe thead tr:only-child th {\n",
       "        text-align: right;\n",
       "    }\n",
       "\n",
       "    .dataframe thead th {\n",
       "        text-align: left;\n",
       "    }\n",
       "\n",
       "    .dataframe tbody tr th {\n",
       "        vertical-align: top;\n",
       "    }\n",
       "</style>\n",
       "<table border=\"1\" class=\"dataframe\">\n",
       "  <thead>\n",
       "    <tr style=\"text-align: right;\">\n",
       "      <th></th>\n",
       "      <th>Age</th>\n",
       "      <th>Athlete</th>\n",
       "      <th>Country</th>\n",
       "      <th>Medal</th>\n",
       "      <th>NOC</th>\n",
       "      <th>Rank</th>\n",
       "      <th>Time</th>\n",
       "      <th>Year</th>\n",
       "    </tr>\n",
       "  </thead>\n",
       "  <tbody>\n",
       "    <tr>\n",
       "      <th>0</th>\n",
       "      <td>24</td>\n",
       "      <td>Hedy Schlunegger</td>\n",
       "      <td>Switzerland</td>\n",
       "      <td>Gold</td>\n",
       "      <td>SUI</td>\n",
       "      <td>1.0</td>\n",
       "      <td>2:28.3</td>\n",
       "      <td>1948</td>\n",
       "    </tr>\n",
       "    <tr>\n",
       "      <th>1</th>\n",
       "      <td>20</td>\n",
       "      <td>Trude Jochum-Beiser</td>\n",
       "      <td>Austria</td>\n",
       "      <td>Silver</td>\n",
       "      <td>AUT</td>\n",
       "      <td>2.0</td>\n",
       "      <td>2:29.1</td>\n",
       "      <td>1948</td>\n",
       "    </tr>\n",
       "    <tr>\n",
       "      <th>2</th>\n",
       "      <td>22</td>\n",
       "      <td>Resi Hammerer</td>\n",
       "      <td>Austria</td>\n",
       "      <td>Bronze</td>\n",
       "      <td>AUT</td>\n",
       "      <td>3.0</td>\n",
       "      <td>2:30.2</td>\n",
       "      <td>1948</td>\n",
       "    </tr>\n",
       "    <tr>\n",
       "      <th>3</th>\n",
       "      <td>27</td>\n",
       "      <td>Celina Seghi</td>\n",
       "      <td>Italy</td>\n",
       "      <td>NaN</td>\n",
       "      <td>ITA</td>\n",
       "      <td>4.0</td>\n",
       "      <td>2:31.1</td>\n",
       "      <td>1948</td>\n",
       "    </tr>\n",
       "    <tr>\n",
       "      <th>4</th>\n",
       "      <td>28</td>\n",
       "      <td>Lina Mittner</td>\n",
       "      <td>Switzerland</td>\n",
       "      <td>NaN</td>\n",
       "      <td>SUI</td>\n",
       "      <td>5.0</td>\n",
       "      <td>2:31.2</td>\n",
       "      <td>1948</td>\n",
       "    </tr>\n",
       "  </tbody>\n",
       "</table>\n",
       "</div>"
      ],
      "text/plain": [
       "   Age              Athlete      Country   Medal  NOC  Rank    Time  Year\n",
       "0   24     Hedy Schlunegger  Switzerland    Gold  SUI   1.0  2:28.3  1948\n",
       "1   20  Trude Jochum-Beiser      Austria  Silver  AUT   2.0  2:29.1  1948\n",
       "2   22        Resi Hammerer      Austria  Bronze  AUT   3.0  2:30.2  1948\n",
       "3   27         Celina Seghi        Italy     NaN  ITA   4.0  2:31.1  1948\n",
       "4   28         Lina Mittner  Switzerland     NaN  SUI   5.0  2:31.2  1948"
      ]
     },
     "execution_count": 47,
     "metadata": {},
     "output_type": "execute_result"
    }
   ],
   "source": [
    "df_downhill_women_years.head()"
   ]
  },
  {
   "cell_type": "code",
   "execution_count": 48,
   "metadata": {
    "collapsed": true
   },
   "outputs": [],
   "source": [
    "df_super_g_women_years = pd.read_csv(\"df_super_g_women - df_super_g_women.csv\")"
   ]
  },
  {
   "cell_type": "code",
   "execution_count": 49,
   "metadata": {},
   "outputs": [
    {
     "data": {
      "text/html": [
       "<div>\n",
       "<style>\n",
       "    .dataframe thead tr:only-child th {\n",
       "        text-align: right;\n",
       "    }\n",
       "\n",
       "    .dataframe thead th {\n",
       "        text-align: left;\n",
       "    }\n",
       "\n",
       "    .dataframe tbody tr th {\n",
       "        vertical-align: top;\n",
       "    }\n",
       "</style>\n",
       "<table border=\"1\" class=\"dataframe\">\n",
       "  <thead>\n",
       "    <tr style=\"text-align: right;\">\n",
       "      <th></th>\n",
       "      <th>Age</th>\n",
       "      <th>Athlete</th>\n",
       "      <th>Country</th>\n",
       "      <th>Medal</th>\n",
       "      <th>NOC</th>\n",
       "      <th>Rank</th>\n",
       "      <th>Time</th>\n",
       "      <th>Year</th>\n",
       "    </tr>\n",
       "  </thead>\n",
       "  <tbody>\n",
       "    <tr>\n",
       "      <th>0</th>\n",
       "      <td>23</td>\n",
       "      <td>Sigrid Wolf</td>\n",
       "      <td>Austria</td>\n",
       "      <td>Gold</td>\n",
       "      <td>AUT</td>\n",
       "      <td>1.0</td>\n",
       "      <td>1:19.03</td>\n",
       "      <td>1988</td>\n",
       "    </tr>\n",
       "    <tr>\n",
       "      <th>1</th>\n",
       "      <td>21</td>\n",
       "      <td>Michela Figini</td>\n",
       "      <td>Switzerland</td>\n",
       "      <td>Silver</td>\n",
       "      <td>SUI</td>\n",
       "      <td>2.0</td>\n",
       "      <td>1:20.03</td>\n",
       "      <td>1988</td>\n",
       "    </tr>\n",
       "    <tr>\n",
       "      <th>2</th>\n",
       "      <td>21</td>\n",
       "      <td>Karen Percy</td>\n",
       "      <td>Canada</td>\n",
       "      <td>Bronze</td>\n",
       "      <td>CAN</td>\n",
       "      <td>3.0</td>\n",
       "      <td>1:20.29</td>\n",
       "      <td>1988</td>\n",
       "    </tr>\n",
       "    <tr>\n",
       "      <th>3</th>\n",
       "      <td>26</td>\n",
       "      <td>Regine MÃ¶senlechner</td>\n",
       "      <td>West Germany</td>\n",
       "      <td>NaN</td>\n",
       "      <td>FRG</td>\n",
       "      <td>4.0</td>\n",
       "      <td>1:20.33</td>\n",
       "      <td>1988</td>\n",
       "    </tr>\n",
       "    <tr>\n",
       "      <th>4</th>\n",
       "      <td>21</td>\n",
       "      <td>Anita Wachter</td>\n",
       "      <td>Austria</td>\n",
       "      <td>NaN</td>\n",
       "      <td>AUT</td>\n",
       "      <td>5.0</td>\n",
       "      <td>1:20.36</td>\n",
       "      <td>1988</td>\n",
       "    </tr>\n",
       "  </tbody>\n",
       "</table>\n",
       "</div>"
      ],
      "text/plain": [
       "   Age               Athlete       Country   Medal  NOC  Rank     Time  Year\n",
       "0   23           Sigrid Wolf       Austria    Gold  AUT   1.0  1:19.03  1988\n",
       "1   21        Michela Figini   Switzerland  Silver  SUI   2.0  1:20.03  1988\n",
       "2   21           Karen Percy        Canada  Bronze  CAN   3.0  1:20.29  1988\n",
       "3   26  Regine MÃ¶senlechner  West Germany     NaN  FRG   4.0  1:20.33  1988\n",
       "4   21         Anita Wachter       Austria     NaN  AUT   5.0  1:20.36  1988"
      ]
     },
     "execution_count": 49,
     "metadata": {},
     "output_type": "execute_result"
    }
   ],
   "source": [
    "df_super_g_women_years.head()"
   ]
  },
  {
   "cell_type": "code",
   "execution_count": 50,
   "metadata": {
    "collapsed": true
   },
   "outputs": [],
   "source": [
    "df_giant_slalom_women_years = pd.read_csv(\"df_giant_slalom_women - df_giant_slalom_women.csv\")"
   ]
  },
  {
   "cell_type": "code",
   "execution_count": 51,
   "metadata": {},
   "outputs": [
    {
     "data": {
      "text/html": [
       "<div>\n",
       "<style>\n",
       "    .dataframe thead tr:only-child th {\n",
       "        text-align: right;\n",
       "    }\n",
       "\n",
       "    .dataframe thead th {\n",
       "        text-align: left;\n",
       "    }\n",
       "\n",
       "    .dataframe tbody tr th {\n",
       "        vertical-align: top;\n",
       "    }\n",
       "</style>\n",
       "<table border=\"1\" class=\"dataframe\">\n",
       "  <thead>\n",
       "    <tr style=\"text-align: right;\">\n",
       "      <th></th>\n",
       "      <th>Age</th>\n",
       "      <th>Athlete</th>\n",
       "      <th>Country</th>\n",
       "      <th>Medal</th>\n",
       "      <th>NOC</th>\n",
       "      <th>Rank</th>\n",
       "      <th>Time</th>\n",
       "      <th>Year</th>\n",
       "    </tr>\n",
       "  </thead>\n",
       "  <tbody>\n",
       "    <tr>\n",
       "      <th>0</th>\n",
       "      <td>19</td>\n",
       "      <td>Andrea Mead-Lawrence</td>\n",
       "      <td>United States</td>\n",
       "      <td>Gold</td>\n",
       "      <td>USA</td>\n",
       "      <td>1.0</td>\n",
       "      <td>2:06.8</td>\n",
       "      <td>1952</td>\n",
       "    </tr>\n",
       "    <tr>\n",
       "      <th>1</th>\n",
       "      <td>23</td>\n",
       "      <td>Dagmar Rom</td>\n",
       "      <td>Austria</td>\n",
       "      <td>Silver</td>\n",
       "      <td>AUT</td>\n",
       "      <td>2.0</td>\n",
       "      <td>2:09.0</td>\n",
       "      <td>1952</td>\n",
       "    </tr>\n",
       "    <tr>\n",
       "      <th>2</th>\n",
       "      <td>27</td>\n",
       "      <td>Mirl Buchner</td>\n",
       "      <td>Germany</td>\n",
       "      <td>Bronze</td>\n",
       "      <td>GER</td>\n",
       "      <td>3.0</td>\n",
       "      <td>2:10.0</td>\n",
       "      <td>1952</td>\n",
       "    </tr>\n",
       "    <tr>\n",
       "      <th>3</th>\n",
       "      <td>26</td>\n",
       "      <td>Trude Klecker</td>\n",
       "      <td>Austria</td>\n",
       "      <td>NaN</td>\n",
       "      <td>AUT</td>\n",
       "      <td>4.0</td>\n",
       "      <td>2:11.4</td>\n",
       "      <td>1952</td>\n",
       "    </tr>\n",
       "    <tr>\n",
       "      <th>4</th>\n",
       "      <td>21</td>\n",
       "      <td>Katy Rodolph</td>\n",
       "      <td>United States</td>\n",
       "      <td>NaN</td>\n",
       "      <td>USA</td>\n",
       "      <td>5.0</td>\n",
       "      <td>2:11.7</td>\n",
       "      <td>1952</td>\n",
       "    </tr>\n",
       "  </tbody>\n",
       "</table>\n",
       "</div>"
      ],
      "text/plain": [
       "   Age               Athlete        Country   Medal  NOC  Rank    Time  Year\n",
       "0   19  Andrea Mead-Lawrence  United States    Gold  USA   1.0  2:06.8  1952\n",
       "1   23            Dagmar Rom        Austria  Silver  AUT   2.0  2:09.0  1952\n",
       "2   27          Mirl Buchner        Germany  Bronze  GER   3.0  2:10.0  1952\n",
       "3   26         Trude Klecker        Austria     NaN  AUT   4.0  2:11.4  1952\n",
       "4   21          Katy Rodolph  United States     NaN  USA   5.0  2:11.7  1952"
      ]
     },
     "execution_count": 51,
     "metadata": {},
     "output_type": "execute_result"
    }
   ],
   "source": [
    "df_giant_slalom_women_years.head()"
   ]
  },
  {
   "cell_type": "code",
   "execution_count": 52,
   "metadata": {
    "collapsed": true
   },
   "outputs": [],
   "source": [
    "df_slalom_women_years = pd.read_csv(\"df_slalom_women - df_slalom_women.csv\")"
   ]
  },
  {
   "cell_type": "code",
   "execution_count": 53,
   "metadata": {},
   "outputs": [
    {
     "data": {
      "text/html": [
       "<div>\n",
       "<style>\n",
       "    .dataframe thead tr:only-child th {\n",
       "        text-align: right;\n",
       "    }\n",
       "\n",
       "    .dataframe thead th {\n",
       "        text-align: left;\n",
       "    }\n",
       "\n",
       "    .dataframe tbody tr th {\n",
       "        vertical-align: top;\n",
       "    }\n",
       "</style>\n",
       "<table border=\"1\" class=\"dataframe\">\n",
       "  <thead>\n",
       "    <tr style=\"text-align: right;\">\n",
       "      <th></th>\n",
       "      <th>Age</th>\n",
       "      <th>Athlete</th>\n",
       "      <th>Country</th>\n",
       "      <th>Medal</th>\n",
       "      <th>NOC</th>\n",
       "      <th>Rank</th>\n",
       "      <th>Time</th>\n",
       "      <th>Year</th>\n",
       "    </tr>\n",
       "  </thead>\n",
       "  <tbody>\n",
       "    <tr>\n",
       "      <th>0</th>\n",
       "      <td>28</td>\n",
       "      <td>Gretchen Fraser</td>\n",
       "      <td>United States</td>\n",
       "      <td>Gold</td>\n",
       "      <td>USA</td>\n",
       "      <td>1.0</td>\n",
       "      <td>1:57.2</td>\n",
       "      <td>1948</td>\n",
       "    </tr>\n",
       "    <tr>\n",
       "      <th>1</th>\n",
       "      <td>27</td>\n",
       "      <td>Antoinette Meyer</td>\n",
       "      <td>Switzerland</td>\n",
       "      <td>Silver</td>\n",
       "      <td>SUI</td>\n",
       "      <td>2.0</td>\n",
       "      <td>1:57.7</td>\n",
       "      <td>1948</td>\n",
       "    </tr>\n",
       "    <tr>\n",
       "      <th>2</th>\n",
       "      <td>23</td>\n",
       "      <td>Erika Mahringer</td>\n",
       "      <td>Austria</td>\n",
       "      <td>Bronze</td>\n",
       "      <td>AUT</td>\n",
       "      <td>3.0</td>\n",
       "      <td>1:58.0</td>\n",
       "      <td>1948</td>\n",
       "    </tr>\n",
       "    <tr>\n",
       "      <th>3</th>\n",
       "      <td>27</td>\n",
       "      <td>Georgette Miller-ThiolliÃ¨re</td>\n",
       "      <td>France</td>\n",
       "      <td>NaN</td>\n",
       "      <td>FRA</td>\n",
       "      <td>4.0</td>\n",
       "      <td>1:58.8</td>\n",
       "      <td>1948</td>\n",
       "    </tr>\n",
       "    <tr>\n",
       "      <th>4</th>\n",
       "      <td>21</td>\n",
       "      <td>RenÃ©e Clerc</td>\n",
       "      <td>Switzerland</td>\n",
       "      <td>NaN</td>\n",
       "      <td>SUI</td>\n",
       "      <td>5.0</td>\n",
       "      <td>2:05.8</td>\n",
       "      <td>1948</td>\n",
       "    </tr>\n",
       "  </tbody>\n",
       "</table>\n",
       "</div>"
      ],
      "text/plain": [
       "   Age                       Athlete        Country   Medal  NOC  Rank  \\\n",
       "0   28               Gretchen Fraser  United States    Gold  USA   1.0   \n",
       "1   27              Antoinette Meyer    Switzerland  Silver  SUI   2.0   \n",
       "2   23               Erika Mahringer        Austria  Bronze  AUT   3.0   \n",
       "3   27  Georgette Miller-ThiolliÃ¨re         France     NaN  FRA   4.0   \n",
       "4   21                  RenÃ©e Clerc    Switzerland     NaN  SUI   5.0   \n",
       "\n",
       "     Time  Year  \n",
       "0  1:57.2  1948  \n",
       "1  1:57.7  1948  \n",
       "2  1:58.0  1948  \n",
       "3  1:58.8  1948  \n",
       "4  2:05.8  1948  "
      ]
     },
     "execution_count": 53,
     "metadata": {},
     "output_type": "execute_result"
    }
   ],
   "source": [
    "df_slalom_women_years.head()"
   ]
  },
  {
   "cell_type": "code",
   "execution_count": null,
   "metadata": {
    "collapsed": true
   },
   "outputs": [],
   "source": []
  },
  {
   "cell_type": "code",
   "execution_count": 54,
   "metadata": {
    "collapsed": true
   },
   "outputs": [],
   "source": [
    "df_combine_women_years = pd.read_csv(\"df_combine_women - df_combine_women.csv\")"
   ]
  },
  {
   "cell_type": "code",
   "execution_count": 56,
   "metadata": {},
   "outputs": [
    {
     "data": {
      "text/html": [
       "<div>\n",
       "<style>\n",
       "    .dataframe thead tr:only-child th {\n",
       "        text-align: right;\n",
       "    }\n",
       "\n",
       "    .dataframe thead th {\n",
       "        text-align: left;\n",
       "    }\n",
       "\n",
       "    .dataframe tbody tr th {\n",
       "        vertical-align: top;\n",
       "    }\n",
       "</style>\n",
       "<table border=\"1\" class=\"dataframe\">\n",
       "  <thead>\n",
       "    <tr style=\"text-align: right;\">\n",
       "      <th></th>\n",
       "      <th>Age</th>\n",
       "      <th>Athlete</th>\n",
       "      <th>Country</th>\n",
       "      <th>Medal</th>\n",
       "      <th>NOC</th>\n",
       "      <th>Rank</th>\n",
       "      <th>Time</th>\n",
       "      <th>Year</th>\n",
       "    </tr>\n",
       "  </thead>\n",
       "  <tbody>\n",
       "    <tr>\n",
       "      <th>0</th>\n",
       "      <td>21</td>\n",
       "      <td>Christl Cranz</td>\n",
       "      <td>Germany</td>\n",
       "      <td>Gold</td>\n",
       "      <td>GER</td>\n",
       "      <td>1.0</td>\n",
       "      <td>97.06</td>\n",
       "      <td>1936</td>\n",
       "    </tr>\n",
       "    <tr>\n",
       "      <th>1</th>\n",
       "      <td>18</td>\n",
       "      <td>KÃ¤the Grasegger</td>\n",
       "      <td>Germany</td>\n",
       "      <td>Silver</td>\n",
       "      <td>GER</td>\n",
       "      <td>2.0</td>\n",
       "      <td>95.26</td>\n",
       "      <td>1936</td>\n",
       "    </tr>\n",
       "    <tr>\n",
       "      <th>2</th>\n",
       "      <td>16</td>\n",
       "      <td>Laila Schou Nilsen</td>\n",
       "      <td>Norway</td>\n",
       "      <td>Bronze</td>\n",
       "      <td>NOR</td>\n",
       "      <td>3.0</td>\n",
       "      <td>93.48</td>\n",
       "      <td>1936</td>\n",
       "    </tr>\n",
       "    <tr>\n",
       "      <th>3</th>\n",
       "      <td>18</td>\n",
       "      <td>Erna Steuri</td>\n",
       "      <td>Switzerland</td>\n",
       "      <td>NaN</td>\n",
       "      <td>SUI</td>\n",
       "      <td>4.0</td>\n",
       "      <td>92.36</td>\n",
       "      <td>1936</td>\n",
       "    </tr>\n",
       "    <tr>\n",
       "      <th>4</th>\n",
       "      <td>29</td>\n",
       "      <td>Hadi Pfeifer</td>\n",
       "      <td>Germany</td>\n",
       "      <td>NaN</td>\n",
       "      <td>GER</td>\n",
       "      <td>5.0</td>\n",
       "      <td>91.85</td>\n",
       "      <td>1936</td>\n",
       "    </tr>\n",
       "  </tbody>\n",
       "</table>\n",
       "</div>"
      ],
      "text/plain": [
       "   Age             Athlete      Country   Medal  NOC  Rank   Time  Year\n",
       "0   21       Christl Cranz      Germany    Gold  GER   1.0  97.06  1936\n",
       "1   18    KÃ¤the Grasegger      Germany  Silver  GER   2.0  95.26  1936\n",
       "2   16  Laila Schou Nilsen       Norway  Bronze  NOR   3.0  93.48  1936\n",
       "3   18         Erna Steuri  Switzerland     NaN  SUI   4.0  92.36  1936\n",
       "4   29        Hadi Pfeifer      Germany     NaN  GER   5.0  91.85  1936"
      ]
     },
     "execution_count": 56,
     "metadata": {},
     "output_type": "execute_result"
    }
   ],
   "source": [
    "df_combine_women_years.head()"
   ]
  },
  {
   "cell_type": "code",
   "execution_count": 57,
   "metadata": {
    "collapsed": true
   },
   "outputs": [],
   "source": [
    "df_combine_women_years[\"Type\"] = \"Combine\"\n",
    "df_slalom_women_years[\"Type\"] = \"Slalom\"\n",
    "df_super_g_women_years[\"Type\"] = \"Super G\"\n",
    "df_downhill_women_years[\"Type\"] = \"Downhill\"\n",
    "df_giant_slalom_women_years[\"Type\"] = \"Giant Slalom\""
   ]
  },
  {
   "cell_type": "code",
   "execution_count": 58,
   "metadata": {
    "collapsed": true
   },
   "outputs": [],
   "source": [
    "women_olypmics_skiing = df_downhill_women_years.append(df_combine_women_years)"
   ]
  },
  {
   "cell_type": "code",
   "execution_count": 59,
   "metadata": {
    "collapsed": true
   },
   "outputs": [],
   "source": [
    " women_olypmics_skiing= women_olypmics_skiing.append(df_slalom_women_years)"
   ]
  },
  {
   "cell_type": "code",
   "execution_count": 60,
   "metadata": {
    "collapsed": true
   },
   "outputs": [],
   "source": [
    "women_olypmics_skiing = women_olypmics_skiing.append(df_super_g_women_years)"
   ]
  },
  {
   "cell_type": "code",
   "execution_count": 61,
   "metadata": {
    "collapsed": true
   },
   "outputs": [],
   "source": [
    "women_olypmics_skiing = women_olypmics_skiing.append(df_giant_slalom_women_years)"
   ]
  },
  {
   "cell_type": "code",
   "execution_count": 63,
   "metadata": {},
   "outputs": [],
   "source": [
    "women_olypmics_skiing[\"Gender\"] = \"Women\""
   ]
  },
  {
   "cell_type": "code",
   "execution_count": 64,
   "metadata": {
    "collapsed": true
   },
   "outputs": [],
   "source": [
    "women_olypmics_skiing.to_csv(\"women_olypmics_skiing.csv\")"
   ]
  },
  {
   "cell_type": "code",
   "execution_count": null,
   "metadata": {
    "collapsed": true
   },
   "outputs": [],
   "source": []
  }
 ],
 "metadata": {
  "kernelspec": {
   "display_name": "Python 3",
   "language": "python",
   "name": "python3"
  },
  "language_info": {
   "codemirror_mode": {
    "name": "ipython",
    "version": 3
   },
   "file_extension": ".py",
   "mimetype": "text/x-python",
   "name": "python",
   "nbconvert_exporter": "python",
   "pygments_lexer": "ipython3",
   "version": "3.6.1"
  }
 },
 "nbformat": 4,
 "nbformat_minor": 2
}
